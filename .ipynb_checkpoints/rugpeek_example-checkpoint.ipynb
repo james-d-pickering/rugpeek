{
 "cells": [
  {
   "cell_type": "code",
   "execution_count": 1,
   "id": "fae215b3-58c4-4ac9-ac31-5f749a3d0908",
   "metadata": {},
   "outputs": [],
   "source": [
    "%load_ext autoreload \n",
    "%aimport rugpeek_functions \n",
    "import matplotlib.pyplot as plt\n",
    "import numpy as np\n",
    "import lmfit as lf\n",
    "import matplotlib as mpl\n",
    "import sys"
   ]
  },
  {
   "cell_type": "code",
   "execution_count": 218,
   "id": "4ec39f2c-c47d-4017-861d-d93c4118bed2",
   "metadata": {},
   "outputs": [],
   "source": [
    "data_file_ferric_soret_shg0 = \"../data/aarhus_TA_jan24/2024-01-12/FerricMb_80uM_409nm_SHG_10kHz_TA_1_matrix\"\n",
    "data_file_ferric_soret_shg1 = \"../data/aarhus_TA_jan24/2024-01-12/FerricMb_80uM_409nm_SHG_10kHz_TA_2_matrix\"\n",
    "data_file_ferric_soret_shg2 = \"../data/aarhus_TA_jan24/2024-01-12/FerricMb_80uM_409nm_SHG_10kHz_TA_3_matrix\"\n",
    "\n",
    "data_file_ferric_soret_fun0 = \"../data/aarhus_TA_jan24/2024-01-12/FerricMb_80uM_409nm_FUN_10kHz_TA_1_matrix\"\n",
    "data_file_ferric_soret_fun1 = \"../data/aarhus_TA_jan24/2024-01-12/FerricMb_80uM_409nm_FUN_10kHz_TA_2_matrix\"\n",
    "data_file_ferric_soret_fun2 = \"../data/aarhus_TA_jan24/2024-01-12/FerricMb_80uM_409nm_FUN_10kHz_TA_3_matrix\"\n",
    "\n",
    "solvent_ferric_soret_shg = \"../data/aarhus_TA_jan24/2024-01-16/milliQ_409nm_SHG_chirp_1_matrix\"\n",
    "solvent_ferric_soret_fun = \"../data/aarhus_TA_jan24/2024-01-16/milliQ_409nm_FUN_chirp_1_matrix\""
   ]
  },
  {
   "cell_type": "code",
   "execution_count": 219,
   "id": "fd63a2d7-d046-4238-b65d-32c32ed45388",
   "metadata": {},
   "outputs": [
    {
     "name": "stdout",
     "output_type": "stream",
     "text": [
      "Missing: Concentration\n",
      "Missing: Concentration\n"
     ]
    }
   ],
   "source": [
    "%autoreload 1\n",
    "rp = rugpeek_functions\n",
    "#JDP create an instance of the Rug class\n",
    "ferric_soret_shg = rp.RugTools.average_rugs([rp.Rug(data_file_ferric_soret_shg0, \".dat\"),\n",
    "                                             rp.Rug(data_file_ferric_soret_shg1, \".dat\"),\n",
    "                                             rp.Rug(data_file_ferric_soret_shg2, \".dat\")])\n",
    "\n",
    "ferric_soret_fun = rp.RugTools.average_rugs([rp.Rug(data_file_ferric_soret_fun0, \".dat\"),\n",
    "                                             rp.Rug(data_file_ferric_soret_fun1, \".dat\"),\n",
    "                                             rp.Rug(data_file_ferric_soret_fun2, \".dat\")])\n",
    "\n",
    "solvent_soret_shg = rp.Rug(solvent_ferric_soret_shg, \".dat\")\n",
    "solvent_soret_fun = rp.Rug(solvent_ferric_soret_fun, \".dat\")\n",
    "\n",
    "\n",
    "#combined = rp.RugTools.combine_rugs_wavelengths([ferric_soret_shg, ferric_soret_fun])\n",
    "#rp.RugTools.average_rugs([ferric_soret_shg, ferric_soret_fun])"
   ]
  },
  {
   "cell_type": "code",
   "execution_count": 228,
   "id": "57258110-76c5-417e-8ece-b866a468aeb2",
   "metadata": {},
   "outputs": [
    {
     "name": "stdout",
     "output_type": "stream",
     "text": [
      "Missing: Concentration\n",
      "Missing: Concentration\n",
      "Offset corrected\n",
      "Offset corrected\n"
     ]
    }
   ],
   "source": [
    "%matplotlib qt5\n",
    "\n",
    "ferric_soret_shg = rp.Rug(data_file_ferric_soret_shg, \".dat\")\n",
    "ferric_soret_fun = rp.Rug(data_file_ferric_soret_fun, \".dat\")\n",
    "solvent_soret_shg = rp.Rug(solvent_ferric_soret_shg, \".dat\")\n",
    "solvent_soret_fun = rp.Rug(solvent_ferric_soret_fun, \".dat\")\n",
    "\n",
    "solvent_soret_shg.get_dispersion_correction_eye()\n",
    "coefs_soret_shg = solvent_soret_shg.dispersion_coefs\n",
    "ferric_soret_shg.apply_dispersion_correction(coefs=coefs_soret_shg)\n",
    "ferric_soret_shg.offset(coef=coefs_soret_shg[-1])\n",
    "#ferric_soret_shg.peek()\n",
    "\n",
    "solvent_soret_fun.get_dispersion_correction_eye()\n",
    "coefs_soret_fun = solvent_soret_fun.dispersion_coefs\n",
    "ferric_soret_fun.apply_dispersion_correction(coefs=coefs_soret_fun)\n",
    "ferric_soret_fun.offset(coef=coefs_soret_fun[-1])\n",
    "#ferric_soret_fun.peek()\n",
    "plt.close('all')"
   ]
  },
  {
   "cell_type": "code",
   "execution_count": 229,
   "id": "4a19236b-9247-4692-90bf-92fcb880fe6b",
   "metadata": {},
   "outputs": [],
   "source": [
    "import copy\n",
    "ferric_soret_shg_mod = copy.deepcopy(ferric_soret_shg)\n",
    "ferric_soret_fun_mod = copy.deepcopy(ferric_soret_fun)"
   ]
  },
  {
   "cell_type": "code",
   "execution_count": 230,
   "id": "596af120-d0ea-4a36-8e7f-cde0fae8e666",
   "metadata": {},
   "outputs": [],
   "source": [
    "%matplotlib qt5\n",
    "%autoreload 1\n",
    "ferric_soret_rugs = [ferric_soret_shg_mod, ferric_soret_fun_mod]\n",
    "ferric_soret_total = rp.RugTools.combine_rugs_wavelengths(ferric_soret_rugs, \"ferric_soret_combined_matrix\")\n"
   ]
  },
  {
   "cell_type": "code",
   "execution_count": 261,
   "id": "ad8519d2-9411-42d4-a7a0-fdde3f141a7b",
   "metadata": {},
   "outputs": [],
   "source": [
    "%autoreload 1\n",
    "#ferric_soret_total.reset_matrix()\n",
    "#ferric_soret_total.cut_wavelengths(402, 413)\n",
    "ferric_soret_total.filename = 'Ferric Mb, 409nm pump'\n",
    "#ferric_soret_total.get_background_correction_average()\n",
    "ferric_soret_total.limit_times(tmin=-1, tmax=1000)\n",
    "ferric_soret_total.peek(colourbar=True, min_max=(-100,6))\n",
    "#ferric_soret_total.reset_matrix()\n",
    "#ferric_soret_total.get_background_correction_average()\n",
    "#ferric_soret_total.compute_SVD()"
   ]
  },
  {
   "cell_type": "code",
   "execution_count": 254,
   "id": "8e0e4371-68d1-41c6-99db-659d86b6e117",
   "metadata": {},
   "outputs": [],
   "source": [
    "ferric_soret_total_cut = copy.deepcopy(ferric_soret_total)\n",
    "\n",
    "#ferric_soret_total_cut.cut_wavelengths(400,415)\n",
    "ferric_soret_total_cut.cut_wavelengths(510, 520)\n"
   ]
  },
  {
   "cell_type": "code",
   "execution_count": 302,
   "id": "afb9363d-8577-4f52-9446-a1bed1cf2609",
   "metadata": {},
   "outputs": [
    {
     "data": {
      "text/plain": [
       "<matplotlib.legend.Legend at 0x19f9e5100>"
      ]
     },
     "execution_count": 302,
     "metadata": {},
     "output_type": "execute_result"
    }
   ],
   "source": [
    "times = [-0.1,0.1, 0.5, 1., 5, 5, 50]\n",
    "traces = []\n",
    "plt.close('all')\n",
    "fig = plt.figure()\n",
    "ax = fig.gca()\n",
    "colours = np.flipud(plt.cm.viridis(np.linspace(0, 1, len(times))))\n",
    "\n",
    "insax = ax.inset_axes([0.38, 0.5, 0.4, 0.4])\n",
    "for idx, time in enumerate(times):\n",
    "    ax.plot(ferric_soret_total_cut.wavelengths, \n",
    "             ferric_soret_total_cut.get_wavelength_trace(time), label=str(time)+'ps', color=colours[idx])\n",
    "\n",
    "\n",
    "    insax.plot(ferric_soret_total_cut.wavelengths, \n",
    "             ferric_soret_total_cut.get_wavelength_trace(time), label=str(time)+'ps', color=colours[idx])\n",
    "\n",
    "\n",
    "insax.set_xlim(520, 640)\n",
    "insax.set_ylim(-0.5,1.5)\n",
    "insax.set_yticks([0, 1])\n",
    "insax.set_xlabel('Wavelength (nm)')\n",
    "insax.set_ylabel(r'$\\Delta OD$')\n",
    "insax.set_xticks([520, 580, 640])\n",
    "ax.set_xlabel('Wavelength (nm)')\n",
    "ax.set_ylabel(r'$\\Delta OD$')\n",
    "ax.set_xlim(350,700)\n",
    "ax.set_ylim(-3,12)\n",
    "ax.legend()\n",
    "\n"
   ]
  },
  {
   "cell_type": "code",
   "execution_count": 273,
   "id": "a9d8af79-b3f9-43f3-ae57-fe995f36e0a9",
   "metadata": {},
   "outputs": [
    {
     "data": {
      "text/plain": [
       "array([[0.267004, 0.004874, 0.329415, 1.      ],\n",
       "       [0.267968, 0.223549, 0.512008, 1.      ],\n",
       "       [0.190631, 0.407061, 0.556089, 1.      ],\n",
       "       [0.127568, 0.566949, 0.550556, 1.      ],\n",
       "       [0.20803 , 0.718701, 0.472873, 1.      ],\n",
       "       [0.565498, 0.84243 , 0.262877, 1.      ],\n",
       "       [0.993248, 0.906157, 0.143936, 1.      ]])"
      ]
     },
     "execution_count": 273,
     "metadata": {},
     "output_type": "execute_result"
    }
   ],
   "source": [
    "colours"
   ]
  },
  {
   "cell_type": "code",
   "execution_count": 321,
   "id": "faa62776-49f3-402c-8471-d8089fd86605",
   "metadata": {},
   "outputs": [
    {
     "name": "stdout",
     "output_type": "stream",
     "text": [
      "201 213\n",
      "201 213\n",
      "201 213\n"
     ]
    },
    {
     "data": {
      "text/plain": [
       "(350.0, 700.0)"
      ]
     },
     "execution_count": 321,
     "metadata": {},
     "output_type": "execute_result"
    }
   ],
   "source": [
    "%autoreload 1\n",
    "plt.close('all')\n",
    "plt.figure()\n",
    "sing = ferric_soret_total.singular_values\n",
    "for idx, spectrum in enumerate(ferric_soret_total.principal_spectra[0:3]):\n",
    "    rp.RugTools.cut_wavelengths_spectrum(ferric_soret_total.wavelengths, spectrum, 510, 520)\n",
    "    plt.plot(ferric_soret_total.wavelengths, spectrum, label='Component '+str(idx+1))\n",
    "\n",
    "plt.legend()\n",
    "plt.xlabel('Wavelength (nm)')\n",
    "plt.ylabel(r'$\\Delta OD$')\n",
    "plt.xlim(350, 700)"
   ]
  },
  {
   "cell_type": "code",
   "execution_count": 319,
   "id": "92bab632-e1e8-4418-9a36-34e242ab913d",
   "metadata": {},
   "outputs": [
    {
     "data": {
      "text/plain": [
       "array([-1.82015514e-02, -2.51452932e-02, -2.28355124e-02, -9.15837625e-03,\n",
       "       -1.89215492e-02, -1.86629397e-02, -1.74082185e-02, -1.81234567e-02,\n",
       "       -2.07761166e-02, -2.06204301e-02, -2.12096771e-02, -2.04034242e-02,\n",
       "       -2.20273690e-02, -1.96729150e-02, -2.36222088e-02, -1.89101613e-02,\n",
       "       -1.66914474e-02, -1.91631762e-02, -1.61325141e-02, -1.71169149e-02,\n",
       "       -1.63415514e-02, -1.64881140e-02, -1.40204467e-02, -1.37136755e-02,\n",
       "       -1.29395685e-02, -1.41744317e-02, -1.22496906e-02, -1.13360004e-02,\n",
       "       -1.00810229e-02, -9.79453019e-03, -8.28294932e-03, -6.82371097e-03,\n",
       "       -6.63566549e-03, -5.80941827e-03, -5.64717147e-03, -2.93514892e-03,\n",
       "       -3.53412206e-03, -4.15034058e-03, -4.59409352e-03, -4.73675038e-03,\n",
       "       -8.16160765e-04, -2.42250849e-03, -5.11937438e-03, -4.07604741e-03,\n",
       "       -3.25454062e-03, -4.91543120e-04, -9.18467531e-04, -1.59119643e-03,\n",
       "       -3.22150436e-04,  4.23518783e-04,  4.87690889e-03,  5.81054210e-03,\n",
       "        7.84991120e-03,  8.33075849e-03,  4.10908254e-03,  1.38106347e-02,\n",
       "        1.31415981e-02,  8.87605096e-03,  4.00655315e-03, -2.53781192e-03,\n",
       "        5.19672051e-03, -1.09474438e-03, -1.50141787e-02, -2.26605416e-02,\n",
       "       -3.37018638e-02, -2.41885565e-02, -3.08966202e-02, -4.56305578e-02,\n",
       "       -5.24080439e-02, -6.18879386e-02, -6.34858579e-02, -3.47927012e-02,\n",
       "       -3.62994404e-02, -2.59877620e-02, -1.24497243e-02,  4.80665192e-03,\n",
       "        5.72845429e-02,  6.66810917e-02,  7.66461919e-02,  8.65718542e-02,\n",
       "        1.00421913e-01,  1.27714053e-01,  1.69858341e-01,  1.93247321e-01,\n",
       "        2.11799873e-01,  2.26113858e-01,  2.37425734e-01,  2.44070591e-01,\n",
       "        2.50603054e-01,  2.47160489e-01,  2.42183495e-01,  2.33742489e-01,\n",
       "        2.25682925e-01,  2.17536612e-01,  2.02260785e-01,  1.92261871e-01,\n",
       "        1.82782544e-01,  1.72726544e-01,  1.61648307e-01,  1.50917182e-01,\n",
       "        1.36286406e-01,  1.27892360e-01,  1.18102359e-01,  1.11296027e-01,\n",
       "        1.05377822e-01,  9.63767234e-02,  8.92460083e-02,  7.63892847e-02,\n",
       "        7.06127924e-02,  6.14296720e-02,  5.42535954e-02,  4.98051927e-02,\n",
       "        4.43210699e-02,  3.71181485e-02,  2.98638987e-02,  2.40946655e-02,\n",
       "        2.12408188e-02,  1.83041321e-02,  1.38848414e-02,  1.10704462e-02,\n",
       "        8.98282751e-03,  5.73164198e-03,  4.47109241e-03,  1.72482558e-03,\n",
       "        1.11277294e-03, -2.05130722e-05, -7.17679211e-04, -1.77021409e-03,\n",
       "       -2.66415559e-03, -3.14388572e-03, -2.48064119e-03, -3.34747021e-03,\n",
       "       -3.16585939e-03, -3.59052704e-03, -3.61395064e-03, -3.27552386e-03,\n",
       "       -3.57715126e-03, -3.78371546e-03, -4.13459100e-03, -3.99284173e-03,\n",
       "       -3.49134052e-03, -3.81719629e-03, -3.81428750e-03, -4.09232281e-03,\n",
       "       -4.08542057e-03, -5.01719502e-03, -5.19502367e-03, -2.61621549e-03,\n",
       "       -4.07103418e-03, -5.19692245e-03, -2.69862795e-03, -2.31788734e-03,\n",
       "       -2.00912923e-03, -5.01612656e-03, -1.30291078e-03, -1.83774717e-03,\n",
       "        1.38270484e-03, -1.86559494e-03, -1.50630304e-03, -3.11642038e-03,\n",
       "       -3.65740485e-03, -1.55673589e-03, -7.04422062e-03, -2.13748689e-03,\n",
       "       -1.69080345e-03, -3.16748921e-03, -4.55267739e-03, -2.72972194e-03,\n",
       "       -2.37869845e-03, -4.00875017e-03, -3.05438932e-03,  1.02193399e-04,\n",
       "       -2.02921657e-03, -3.47595828e-03, -5.26193231e-03, -4.72822590e-03,\n",
       "       -8.68468048e-04, -4.11761097e-03, -3.84627473e-03, -1.89917041e-03,\n",
       "       -3.94063017e-03, -3.72745224e-03, -3.08158388e-03, -2.46179488e-03,\n",
       "       -4.62701850e-03, -1.77892106e-03, -5.06763113e-03, -2.51428149e-03,\n",
       "        1.13554956e-04, -1.76289306e-03, -1.36653133e-03, -3.08900050e-04,\n",
       "       -5.65813660e-05, -3.25666471e-03,  4.31743918e-05, -9.43207590e-04,\n",
       "        2.07899225e-05,  3.42981220e-04, -1.77950437e-04,  1.42242714e-03,\n",
       "       -1.14940454e-03, -2.22162158e-04,  3.86470051e-04,  8.04068482e-04,\n",
       "        1.71474576e-03,  4.98432823e-05,  1.40481659e-03,  1.26136647e-03,\n",
       "        2.56721684e-03,  4.12280894e-04,  2.70994932e-03,  3.84381619e-03,\n",
       "        2.36094094e-03,  4.86336020e-04, -4.39258434e-08,  1.57805864e-03,\n",
       "       -1.20991952e-04,  6.22557760e-04,  4.11652727e-04,  1.10000427e-03,\n",
       "       -4.54089670e-04,  1.03526632e-03,  8.50430554e-04, -2.92600713e-04,\n",
       "       -1.73458584e-04,  3.99976910e-04,  8.44558010e-04,  2.93626618e-04,\n",
       "       -5.08734336e-05,  4.99755558e-04,  1.17886432e-04,  2.51575643e-04,\n",
       "        3.89009891e-04,  3.38317084e-04,  7.23579809e-05,  4.32421251e-04,\n",
       "       -1.34935282e-04,  5.08934410e-04,  1.68203958e-04,  8.92540686e-04,\n",
       "        4.03613143e-04,  7.30828896e-04,  7.04329209e-04,  1.20889640e-03,\n",
       "        4.81194015e-04,  8.29377639e-04,  1.02125527e-03,  1.33297966e-03,\n",
       "        1.35601197e-03,  1.42300722e-03,  1.91290540e-03,  2.03299703e-03,\n",
       "        1.74896077e-03,  2.16565602e-03,  1.92078174e-03,  2.30176499e-03,\n",
       "        2.09237978e-03,  1.48232991e-03,  1.18328786e-03,  1.25547784e-03,\n",
       "        4.74562400e-04,  6.18343756e-04,  4.66659060e-04,  1.01890529e-03,\n",
       "        5.73624487e-04,  7.93954574e-04,  1.18762432e-03,  1.06436529e-03,\n",
       "        5.50088729e-04,  1.21770081e-03,  1.68309906e-03,  7.18839867e-04,\n",
       "        5.70621178e-04,  5.33697314e-04,  7.88794131e-04,  7.16358230e-04,\n",
       "        3.88686523e-04,  4.21324771e-04, -3.40308662e-05,  1.17026029e-05,\n",
       "       -2.80944197e-04, -1.57168400e-04,  1.26542040e-04, -3.07971931e-04,\n",
       "       -5.59173586e-04, -2.50568746e-04, -3.70020722e-04, -5.75843347e-05,\n",
       "       -8.95554371e-04, -4.01433172e-04, -9.74923873e-04, -1.76693438e-03,\n",
       "       -3.66766332e-03, -1.83051167e-04,  9.99005288e-05, -1.10515071e-03,\n",
       "        2.90899871e-04, -5.50424571e-04, -3.43213798e-04,  8.66588223e-04,\n",
       "        9.08071807e-04,  3.77101191e-04,  1.19505797e-03,  4.90164425e-04,\n",
       "       -5.60843761e-05,  1.85114130e-05,  1.77601355e-04, -2.08212769e-04,\n",
       "        2.09065416e-03, -1.42337825e-03, -8.23499494e-04, -6.52671539e-04,\n",
       "        1.84655648e-04, -2.33912430e-04,  4.09850820e-04, -1.52401463e-04,\n",
       "        2.99104971e-04,  1.69959221e-04, -1.54788535e-03, -3.66131827e-04,\n",
       "       -7.53820117e-04,  3.23628543e-04,  2.30080209e-04, -1.02862119e-03,\n",
       "        1.11249453e-04, -9.39561907e-04, -9.22792079e-06, -1.69579121e-03,\n",
       "       -2.18949690e-03, -2.49048571e-03, -2.70339862e-03, -2.02405763e-03,\n",
       "       -2.73805128e-03, -1.64228418e-03, -3.04182786e-03, -4.41084448e-03,\n",
       "       -4.39719420e-03, -6.22195202e-03, -4.18931663e-03, -5.34396811e-03,\n",
       "       -3.54003513e-03, -5.18318795e-03, -5.59557461e-03, -5.30081786e-03,\n",
       "       -8.02023509e-03, -4.92063866e-03, -4.64643971e-03, -5.70660863e-03,\n",
       "       -7.32778089e-03, -3.12487668e-03, -6.27904640e-03, -5.35890394e-03,\n",
       "       -7.65397284e-03, -7.02597714e-03, -6.34909449e-03, -6.76610094e-03,\n",
       "       -9.19784499e-03, -7.51913515e-03, -5.63116093e-03, -4.43879902e-03,\n",
       "       -5.38307260e-03, -4.60714351e-03, -6.99702675e-03, -6.04869141e-03,\n",
       "       -5.20144924e-03, -6.59334116e-03, -4.80933157e-03, -7.53702975e-03,\n",
       "       -4.72690102e-03, -6.57064570e-03, -3.41341871e-03, -4.71445223e-03,\n",
       "       -6.42020305e-03, -5.38456980e-03, -4.93775809e-03, -4.66020035e-03,\n",
       "       -3.72732968e-03, -5.35617651e-03, -4.60954318e-03, -3.74873704e-03,\n",
       "       -4.67650884e-03, -3.41411009e-03, -4.40814702e-03, -4.93418477e-03,\n",
       "       -4.15714776e-03, -6.78529366e-03, -4.20789039e-03, -2.96970215e-03,\n",
       "       -5.26322431e-03, -4.99936529e-03, -4.70074337e-03, -3.99074827e-03,\n",
       "       -4.53384953e-03, -2.80699080e-03, -3.65949740e-03, -3.83903547e-03,\n",
       "       -6.28879952e-03, -4.11173757e-03, -4.35502322e-03, -3.80365780e-03,\n",
       "       -5.26113125e-03, -1.62216876e-03, -3.20767510e-03, -3.96453651e-03,\n",
       "       -2.67428371e-03, -3.86073216e-03, -1.35070825e-03, -2.77698700e-03,\n",
       "       -2.61720268e-03, -2.98851095e-03, -3.80004630e-03, -2.91827892e-03,\n",
       "       -3.43615523e-03, -3.84797532e-03, -4.61964301e-03, -2.56814347e-03,\n",
       "       -4.06968590e-03, -1.08906669e-03, -1.95072529e-03, -4.49663845e-03,\n",
       "       -4.99592408e-03, -4.25697586e-03, -2.12406972e-03, -4.15584213e-03,\n",
       "       -2.51688992e-03, -2.22051569e-03, -3.14312670e-03, -2.87045460e-03,\n",
       "       -4.54584199e-03, -3.10473236e-03, -1.59927606e-03, -1.28271342e-03,\n",
       "       -2.57088637e-03, -1.33937285e-03, -1.49328896e-03, -1.96844554e-03,\n",
       "       -1.73053069e-03, -1.64231325e-04, -7.11121429e-04, -2.36200763e-03,\n",
       "       -1.90182518e-03,  1.37173911e-03, -4.68933191e-03, -1.87626736e-03,\n",
       "       -4.58981719e-03, -5.46402472e-04, -2.09541851e-03, -3.09041379e-03,\n",
       "       -3.05538712e-03, -3.30772151e-03, -2.63419234e-03, -2.77556013e-03,\n",
       "       -1.71502425e-03])"
      ]
     },
     "execution_count": 319,
     "metadata": {},
     "output_type": "execute_result"
    }
   ],
   "source": [
    "spectrum"
   ]
  }
 ],
 "metadata": {
  "kernelspec": {
   "display_name": "Python 3 (ipykernel)",
   "language": "python",
   "name": "python3"
  },
  "language_info": {
   "codemirror_mode": {
    "name": "ipython",
    "version": 3
   },
   "file_extension": ".py",
   "mimetype": "text/x-python",
   "name": "python",
   "nbconvert_exporter": "python",
   "pygments_lexer": "ipython3",
   "version": "3.12.4"
  }
 },
 "nbformat": 4,
 "nbformat_minor": 5
}
