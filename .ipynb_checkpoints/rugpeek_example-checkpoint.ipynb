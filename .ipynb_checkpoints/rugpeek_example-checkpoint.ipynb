{
 "cells": [
  {
   "cell_type": "code",
   "execution_count": 2,
   "id": "fae215b3-58c4-4ac9-ac31-5f749a3d0908",
   "metadata": {},
   "outputs": [
    {
     "name": "stdout",
     "output_type": "stream",
     "text": [
      "The autoreload extension is already loaded. To reload it, use:\n",
      "  %reload_ext autoreload\n"
     ]
    }
   ],
   "source": [
    "%load_ext autoreload \n",
    "%aimport rugpeek_functions \n",
    "import matplotlib.pyplot as plt\n",
    "import numpy as np\n",
    "import lmfit as lf\n",
    "import matplotlib as mpl\n",
    "import sys"
   ]
  },
  {
   "cell_type": "code",
   "execution_count": 3,
   "id": "4ec39f2c-c47d-4017-861d-d93c4118bed2",
   "metadata": {},
   "outputs": [],
   "source": [
    "data_file_ferric_soret_shg0 = \"../data/aarhus_TA_jan24/2024-01-12/FerricMb_80uM_409nm_SHG_10kHz_TA_1_matrix\"\n",
    "data_file_ferric_soret_shg1 = \"../data/aarhus_TA_jan24/2024-01-12/FerricMb_80uM_409nm_SHG_10kHz_TA_2_matrix\"\n",
    "data_file_ferric_soret_shg2 = \"../data/aarhus_TA_jan24/2024-01-12/FerricMb_80uM_409nm_SHG_10kHz_TA_3_matrix\"\n",
    "\n",
    "data_file_ferric_soret_fun0 = \"../data/aarhus_TA_jan24/2024-01-12/FerricMb_80uM_409nm_FUN_10kHz_TA_1_matrix\"\n",
    "data_file_ferric_soret_fun1 = \"../data/aarhus_TA_jan24/2024-01-12/FerricMb_80uM_409nm_FUN_10kHz_TA_2_matrix\"\n",
    "data_file_ferric_soret_fun2 = \"../data/aarhus_TA_jan24/2024-01-12/FerricMb_80uM_409nm_FUN_10kHz_TA_3_matrix\"\n",
    "\n",
    "solvent_ferric_soret_shg = \"../data/aarhus_TA_jan24/2024-01-16/milliQ_409nm_SHG_chirp_1_matrix\"\n",
    "solvent_ferric_soret_fun = \"../data/aarhus_TA_jan24/2024-01-16/milliQ_409nm_FUN_chirp_1_matrix\""
   ]
  },
  {
   "cell_type": "code",
   "execution_count": 39,
   "id": "fd63a2d7-d046-4238-b65d-32c32ed45388",
   "metadata": {},
   "outputs": [
    {
     "name": "stdout",
     "output_type": "stream",
     "text": [
      "Missing: Concentration\n",
      "Missing: Concentration\n"
     ]
    }
   ],
   "source": [
    "%autoreload 1\n",
    "rp = rugpeek_functions\n",
    "#JDP create an instance of the Rug class\n",
    "ferric_soret_shg = rp.RugTools.average_rugs([rp.Rug(data_file_ferric_soret_shg0, \".dat\")])\n",
    "                                            # rp.Rug(data_file_ferric_soret_shg1, \".dat\"),\n",
    "                                            # rp.Rug(data_file_ferric_soret_shg2, \".dat\")])\n",
    "\n",
    "ferric_soret_fun = rp.RugTools.average_rugs([rp.Rug(data_file_ferric_soret_fun0, \".dat\")])\n",
    "                                            # rp.Rug(data_file_ferric_soret_fun1, \".dat\"),\n",
    "                                            # rp.Rug(data_file_ferric_soret_fun2, \".dat\")])\n",
    "\n",
    "solvent_soret_shg = rp.Rug(solvent_ferric_soret_shg, \".dat\")\n",
    "solvent_soret_fun = rp.Rug(solvent_ferric_soret_fun, \".dat\")\n",
    "\n",
    "\n",
    "#combined = rp.RugTools.combine_rugs_wavelengths([ferric_soret_shg, ferric_soret_fun])\n",
    "#rp.RugTools.average_rugs([ferric_soret_shg, ferric_soret_fun])"
   ]
  },
  {
   "cell_type": "code",
   "execution_count": 40,
   "id": "57258110-76c5-417e-8ece-b866a468aeb2",
   "metadata": {},
   "outputs": [
    {
     "name": "stdout",
     "output_type": "stream",
     "text": [
      "Offset corrected\n",
      "Offset corrected\n"
     ]
    }
   ],
   "source": [
    "%matplotlib qt5\n",
    "\n",
    "#ferric_soret_shg = rp.Rug(data_file_ferric_soret_shg, \".dat\")\n",
    "#ferric_soret_fun = rp.Rug(data_file_ferric_soret_fun, \".dat\")\n",
    "#solvent_soret_shg = rp.Rug(solvent_ferric_soret_shg, \".dat\")\n",
    "#solvent_soret_fun = rp.Rug(solvent_ferric_soret_fun, \".dat\")\n",
    "\n",
    "solvent_soret_shg.get_dispersion_correction_eye(degree=2)\n",
    "coefs_soret_shg = solvent_soret_shg.dispersion_coefs\n",
    "solvent_soret_shg.apply_dispersion_correction(coefs=coefs_soret_shg)\n",
    "ferric_soret_shg.apply_dispersion_correction(coefs=coefs_soret_shg)\n",
    "ferric_soret_shg.offset(coef=coefs_soret_shg[-1])\n",
    "#ferric_soret_shg.peek()\n",
    "\n",
    "solvent_soret_fun.get_dispersion_correction_eye(degree=2)\n",
    "coefs_soret_fun = solvent_soret_fun.dispersion_coefs\n",
    "ferric_soret_fun.apply_dispersion_correction(coefs=coefs_soret_fun)\n",
    "solvent_soret_fun.apply_dispersion_correction(coefs=coefs_soret_fun)\n",
    "\n",
    "ferric_soret_fun.offset(coef=coefs_soret_fun[-1])\n",
    "#ferric_soret_fun.peek()\n",
    "plt.close('all')"
   ]
  },
  {
   "cell_type": "code",
   "execution_count": 42,
   "id": "4a19236b-9247-4692-90bf-92fcb880fe6b",
   "metadata": {},
   "outputs": [],
   "source": [
    "import copy\n",
    "ferric_soret_shg_mod = copy.deepcopy(ferric_soret_shg)\n",
    "ferric_soret_fun_mod = copy.deepcopy(ferric_soret_fun)\n",
    "solvent_soret_shg_mod = copy.deepcopy(solvent_soret_shg)\n",
    "solvent_soret_fun_mod = copy.deepcopy(solvent_soret_fun)\n",
    "\n",
    "ferric_soret_rugs = [ferric_soret_shg_mod, ferric_soret_fun_mod]\n",
    "ferric_soret_total = rp.RugTools.combine_rugs_wavelengths(ferric_soret_rugs, \"ferric_soret_combined_matrix\")\n",
    "\n",
    "solvent_soret_rugs = [solvent_soret_shg_mod, solvent_soret_fun_mod]\n",
    "solvent_soret_total = rp.RugTools.combine_rugs_wavelengths(solvent_soret_rugs, \"solvent_soret_combined_matrix\")\n"
   ]
  },
  {
   "cell_type": "code",
   "execution_count": 49,
   "id": "ad8519d2-9411-42d4-a7a0-fdde3f141a7b",
   "metadata": {},
   "outputs": [
    {
     "name": "stdout",
     "output_type": "stream",
     "text": [
      "\n",
      "Taken average background\n",
      "(239, 453) (239, 453)\n"
     ]
    }
   ],
   "source": [
    "ferric_soret_total.cut_wavelengths(395,430, fill=0)\n",
    "ferric_soret_total.cut_wavelengths(512,518, fill=0)\n",
    "ferric_soret_total.background_subtract()\n",
    "ferric_soret_total.peek()"
   ]
  },
  {
   "cell_type": "code",
   "execution_count": 8,
   "id": "41555b0d-8ad4-4012-be4c-d8508c42438b",
   "metadata": {},
   "outputs": [],
   "source": [
    "solvent_soret_total.cut_wavelengths(400,418, fill=0)\n",
    "solvent_soret_total.cut_wavelengths(512,518, fill=0)\n",
    "#solvent_soret_total.background_subtract()\n",
    "solvent_soret_total.peek()"
   ]
  },
  {
   "cell_type": "code",
   "execution_count": 53,
   "id": "25e4b23b-af27-49ab-ab21-a3f68d19b4d2",
   "metadata": {},
   "outputs": [],
   "source": [
    "%autoreload 1\n",
    "ferric_soret_total.peek()"
   ]
  },
  {
   "cell_type": "code",
   "execution_count": 50,
   "id": "ea726877-67fd-4458-a2d3-6125f7c6c40e",
   "metadata": {},
   "outputs": [
    {
     "name": "stdout",
     "output_type": "stream",
     "text": [
      "Taking threshold for singular value significance as 100x larger than smallest singular value (36.6966408).\n",
      "Found 2 significant singular values\n",
      "90.32 % of data variance described by component 1.\n",
      "4.61 % of data variance described by component 2.\n",
      "Overall, 94.93 % of data variance described by the first 2 components.\n",
      "Leaving 5.07 % of data variance described by the the remaining 237 components which are below threshold (roughly 0.02 % per component).\n"
     ]
    },
    {
     "data": {
      "text/plain": [
       "<matplotlib.legend.Legend at 0x188416ab0>"
      ]
     },
     "execution_count": 50,
     "metadata": {},
     "output_type": "execute_result"
    }
   ],
   "source": [
    "%autoreload 1\n",
    "plt.close('all')\n",
    "#ferric_soret_total.reset_matrix()\n",
    "\n",
    "\n",
    "#ferric_soret_total.limit_times(tmin=10, tmax=1000)\n",
    "#ferric_soret_total.limit_wavelengths(wlmin=413, wlmax=700)\n",
    "                                                       \n",
    "ferric_soret_total.compute_SVD(threshold=100)\n",
    "\n",
    "\n",
    "#cpt1 = np.outer(ferric_soret_total.relevant_kinetics[2],\n",
    "     #           ferric_soret_total.relevant_spectra[2])\n",
    "'''\n",
    "fig = plt.figure()\n",
    "ax = fig.gca()\n",
    "cmap='PuOr'\n",
    "vmin = cpt1.min()\n",
    "vmax = cpt1.max()\n",
    "im = ax.pcolormesh(ferric_soret_total.wavelengths, ferric_soret_total.times, cpt1,\n",
    "            cmap=cmap, norm=mpl.colors.TwoSlopeNorm(vcenter=0, vmin=vmin, vmax=vmax))\n",
    "ax.set_yscale('symlog')\n",
    "'''\n",
    "\n",
    "plt.figure()\n",
    "for i, spectrum in enumerate(ferric_soret_total.relevant_kinetics):\n",
    "    plt.plot(ferric_soret_total.times, spectrum, label='Component '+str(i+1))\n",
    "\n",
    "plt.xscale('symlog')\n",
    "plt.legend()\n",
    "\n",
    "plt.figure()\n",
    "for i, spectrum in enumerate(ferric_soret_total.relevant_spectra):\n",
    "    plt.plot(ferric_soret_total.wavelengths, spectrum, label='Component '+str(i+1))\n",
    "\n",
    "plt.legend()\n"
   ]
  },
  {
   "cell_type": "code",
   "execution_count": 52,
   "id": "63801bb0-f575-4017-b1dc-855a7c896aba",
   "metadata": {},
   "outputs": [
    {
     "data": {
      "text/plain": [
       "<matplotlib.legend.Legend at 0x15336b140>"
      ]
     },
     "execution_count": 52,
     "metadata": {},
     "output_type": "execute_result"
    }
   ],
   "source": [
    "plt.figure()\n",
    "times = [370, 380, 390, 400, 420, 430, 440, 450, 500, 600]\n",
    "for time in times:\n",
    "    plt.plot(ferric_soret_total.times, ferric_soret_total.get_time_trace(time), label=time)\n",
    "\n",
    "plt.xscale('symlog')\n",
    "plt.legend()"
   ]
  },
  {
   "cell_type": "code",
   "execution_count": 248,
   "id": "07826fb6-13b8-4e34-96bc-9da946bbbba8",
   "metadata": {},
   "outputs": [
    {
     "name": "stdout",
     "output_type": "stream",
     "text": [
      "Fitting component 1 of the SVD.\n",
      "Fitting to 2 exponential decays.\n",
      "Fitted IRF as centered at 0.0509462465078314 ps and with 0.08426401255401239 ps width.\n",
      "Lifetime is: 3.9711 +/- 0.0002 ps. Corresponding amplitude is 2.2258.\n",
      "Lifetime is: 0.6202 +/- 0.1204 ps. Corresponding amplitude is 0.3559.\n",
      "Fitting component 2 of the SVD.\n",
      "Fitting to 2 exponential decays.\n",
      "Fitted IRF as centered at 0.07393685253683657 ps and with 0.09533358618796132 ps width.\n",
      "Lifetime is: 0.3476 +/- 0.551 ps. Corresponding amplitude is 0.7495.\n",
      "Lifetime is: 5.4229 +/- 0.0002 ps. Corresponding amplitude is -2.4578.\n"
     ]
    }
   ],
   "source": [
    "#### Fitting the SVD components\n",
    "\n",
    "%autoreload 2\n",
    "t = ferric_soret_total.times\n",
    "\n",
    "#plt.close('all')\n",
    "def normalise(x):\n",
    "    a = (x-np.min(x))/np.max(x)\n",
    "    return a\n",
    "\n",
    "def normalise_scale(x):\n",
    "    return x/np.max(x)\n",
    "\n",
    "def inverse_uncertainty(x, s):\n",
    "    s_inv = s / (x**2)\n",
    "    return s_inv\n",
    "    \n",
    "traces = ferric_soret_total.relevant_kinetics[0:3]\n",
    "\n",
    "ncpts = 2\n",
    "\n",
    "IRF_center_val = 0\n",
    "IRF_center_min = -0.3\n",
    "IRF_center_max = 0.3\n",
    "IRF_center= [IRF_center_val, IRF_center_min, IRF_center_max]\n",
    "\n",
    "IRF_sigma_val = 0.4\n",
    "IRF_sigma_min = 0\n",
    "IRF_sigma_max = 0.5\n",
    "IRF_sigma= [IRF_sigma_val, IRF_sigma_min, IRF_sigma_max]\n",
    "\n",
    "decay_amplitude_center = [1, -1, 1]\n",
    "decay_amplitude_min = [-5, -5, -5]\n",
    "decay_amplitude_max = [5, 5, 5]\n",
    "\n",
    "decay_gamma_center = [1, 1, 1]\n",
    "decay_gamma_min = [1E-6, 1E-6, 1E-6]\n",
    "decay_gamma_max = [20, 20, 20]\n",
    "mods = []\n",
    "\n",
    "for idx, trace in enumerate(traces):\n",
    "    y = normalise_scale(trace)\n",
    "    print(f'Fitting component {idx+1} of the SVD.')\n",
    "    print(f'Fitting to {ncpts} exponential decays.')\n",
    "    \n",
    "    for n in range(ncpts):\n",
    "        if n == 0:\n",
    "            mod = lf.models.ExponentialGaussianModel(prefix='p'+str(n)+'_')\n",
    "            pars = mod.make_params(center = dict(value=IRF_center[0], min=IRF_center[1], \n",
    "                                                 max=IRF_center[2], vary=True),\n",
    "                        sigma = dict(value=IRF_sigma[0], min=IRF_sigma[1], \n",
    "                                     max=IRF_sigma[2], vary=True),\n",
    "                        amplitude = dict(value=decay_amplitude_center[n],min=decay_amplitude_min[n],\n",
    "                                         max=decay_amplitude_max[n], vary=True), \n",
    "                        gamma = dict(value=decay_gamma_center[n], min=decay_gamma_min[n], \n",
    "                                     max=decay_gamma_max[n], vary=True))\n",
    "            model = mod\n",
    "        else:\n",
    "            mod = lf.models.ExponentialGaussianModel(prefix='p'+str(n)+'_')\n",
    "            pars.update(mod.make_params(center = dict(expr='p0_center', vary=False),\n",
    "                        sigma = dict(expr='p0_sigma', vary=False),\n",
    "                        amplitude = dict(value=decay_amplitude_center[n],min=decay_amplitude_min[n],\n",
    "                                         max=decay_amplitude_max[n], vary=True), \n",
    "                        gamma = dict(value=decay_gamma_center[n], min=decay_gamma_min[n], \n",
    "                                     max=decay_gamma_max[n], vary=True)))\n",
    "            model = model + mod\n",
    "\n",
    "\n",
    "    out = model.fit(y, pars, x=t, method='least_squares')\n",
    "    \n",
    "    plt.figure()\n",
    "    ax = out.plot_fit()\n",
    "    ax.set_xlabel('Time (ps)')\n",
    "    ax.set_ylabel(r'$\\Delta OD')\n",
    "    ax.set_xscale('symlog')\n",
    "    t0 = out.params['p'+str(0)+'_center'].value\n",
    "    FWHM = out.params['p'+str(0)+'_sigma'].value\n",
    "    print(f'Fitted IRF as centered at {t0} ps and with {FWHM} ps width.')\n",
    "    for n in range(ncpts):\n",
    "        l1 = np.round(1/out.params['p'+str(n)+'_gamma'].value, 4) \n",
    "        l1_err = np.round(inverse_uncertainty(l1, out.params['p'+str(n)+'_gamma'].stderr), 4)\n",
    "        a1 = np.round(out.params['p'+str(n)+'_amplitude'].value,4)\n",
    "        print(f'Lifetime is: {l1} +/- {l1_err} ps. Corresponding amplitude is {a1}.')\n",
    "\n"
   ]
  },
  {
   "cell_type": "code",
   "execution_count": 269,
   "id": "04e43c57-6b41-428e-968d-043448ec7cdb",
   "metadata": {},
   "outputs": [
    {
     "name": "stdout",
     "output_type": "stream",
     "text": [
      "Name               Value      Min      Max   Stderr     Vary     Expr Brute_Step\n",
      "d0_c                   0        0        2     None    False     None     None\n",
      "d0c0_amplitude         0       -5        5     None     True     None     None\n",
      "d0c0_center            0     -0.3      0.3     None     True     None     None\n",
      "d0c0_gamma             1    1e-06       20     None     True     None     None\n",
      "d0c0_sigma           0.3        0      0.5     None     True     None     None\n",
      "d0c1_amplitude         0       -5        5     None     True     None     None\n",
      "d0c1_center            0     -0.3      0.3     None    False d0c0_center     None\n",
      "d0c1_gamma             1    1e-06       20     None     True     None     None\n",
      "d0c1_sigma           0.3        0      0.5     None    False d0c0_sigma     None\n",
      "d1_c                   0        0        2     None    False     None     None\n",
      "d1c0_amplitude         0       -5        5     None     True     None     None\n",
      "d1c0_center            0     -0.3      0.3     None    False d0c0_center     None\n",
      "d1c0_gamma             1    1e-06       20     None    False d0c0_gamma     None\n",
      "d1c0_sigma           0.3        0      0.5     None    False d0c0_sigma     None\n",
      "d1c1_amplitude         0       -5        5     None     True     None     None\n",
      "d1c1_center            0     -0.3      0.3     None    False d0c0_center     None\n",
      "d1c1_gamma             1    1e-06       20     None    False d0c0_gamma     None\n",
      "d1c1_sigma           0.3        0      0.5     None    False d0c0_sigma     None\n"
     ]
    }
   ],
   "source": [
    "# assume that you have a common IRF and constant term, and then some exponentials\n",
    "import string\n",
    "\n",
    "#  paramdata needs to include all the parameters that are used to fit one dataset\n",
    "# if using inbuilt lmfit models the names need to match what is expected \n",
    "# numbers are just used to differentaite them, and are replaced with prefixes later \n",
    "\n",
    "paramdata = {'center': [0, -0.3, 0.3, True],\n",
    "             'sigma': [0.3, 0, 0.5, True],\n",
    "             'gamma': [1, 1E-6, 20, True],\n",
    "             'amplitude': [0, -5, 5, True],\n",
    "             'center2': [0, -0.3, 0.3, True],\n",
    "             'sigma2': [0.3, 0, 0.5, True],\n",
    "             'gamma2': [1, 1E-6, 20, True],\n",
    "             'amplitude2': [0, -5, 5, True],\n",
    "             'c': [0, 0, 2, False]\n",
    "            }\n",
    "\n",
    "#need a way to check that the number of suppplied params matches expected components\n",
    "\n",
    "#these are bits that are common to each component and to each dataset\n",
    "fixed_vars = ['center', 'sigma']\n",
    "\n",
    "#these are bits that apply to one whole dataset, but vary across different datasets ('offsets')\n",
    "offset_vars = ['c'] \n",
    "\n",
    "#these are bits that vary across components, but are commmon to each dataset\n",
    "fixed_data_vars = ['gamma'] \n",
    "\n",
    "\n",
    "def global_fitter(xdata, ydata, paramdata, system, extradata, ncpts=None, vars_per_cpt=None, prefixcpt='c', prefixdata='d',\n",
    "                 model=lf.models.ExponentialGaussianModel, method='leastsq'):\n",
    "    \n",
    "    allowed_models = ['expmodgauss']\n",
    "    \n",
    "    # catch it in the case that you feed in 1D data\n",
    "    if len(ydata.shape) == 1:\n",
    "        ydata = np.expand_dims(ydata, axis=0)\n",
    "    \n",
    "    params = create_params_object(ydata, paramdata, prefixdata, prefixcpt, ncpts=ncpts, vars_per_cpt=vars_per_cpt)\n",
    "    params.pretty_print()\n",
    "    out = lf.minimize(builtin_model, params, args = (xdata, ydata, ncpts, model, prefixdata, prefixcpt), method=method)\n",
    "    return out\n",
    "\n",
    "def builtin_model(params, xdata, ydata, ncpts, model, prefixdata, prefixcpt):\n",
    "    # expect to get 3+2n params in dict for ncpts, so check this:\n",
    "   # if len(params) != ncpts:\n",
    "      #  raise Exception('you idiot')\n",
    "    #print(ydata.shape)\n",
    "    residual = np.zeros_like(ydata)\n",
    "    for idx, _ in enumerate(ydata):\n",
    "        \n",
    "        for jdx, n in enumerate(range(ncpts)): #loop over exponential components\n",
    "            if (idx == 0 and jdx == 0):\n",
    "                mod = model(prefix=prefixdata+str(idx)+prefixcpt+str(jdx)+'_')\n",
    "            else:\n",
    "                mod += model(prefix=prefixdata+str(idx)+prefixcpt+str(jdx)+'_')\n",
    "    # here we have the model defined for that dataset\n",
    "         \n",
    "        residual[idx,:] = ydata[idx,:] - mod.eval(params=params, x=xdata)\n",
    "        #sys.exit()\n",
    "  #  print(mod)\n",
    "    return residual.flatten()\n",
    "\n",
    "\n",
    "\n",
    "\n",
    "def create_params_object(ydata, paramdata, prefixdata, prefixcpt, ncpts=None, vars_per_cpt=None):\n",
    "    ''' Creates a parameters object from given dictionary and ydata.\n",
    "\n",
    "    Would you ever want each exponential component to have a different IRF?\n",
    "\n",
    "    What i want to do is define the prefixes on the different datasets and then the stuff within each model can be initialised \n",
    "    as the model is created, otherwise you'd need two different sets of prefixes.\n",
    "\n",
    "    prefix works as dNcM - N datasets, M components.\n",
    "\n",
    "    need to re add the IRF stuff as a part of each exponential commpoent (rather than defining it over and over)\n",
    "\n",
    "    Assumes we are doing a global fit, so creates parameters for the number of datasets you've got,\n",
    "    but fixes the values of the variables that shouldn't vary between fits.\n",
    "    '''\n",
    "    params = lf.Parameters()\n",
    "    # loop over all the y data being globally fit (datasets)\n",
    "    for idx,  _ in enumerate(ydata):\n",
    "        # loop over the param list, if first loop then want to vary the IRF params but fix for all others (components)\n",
    "        cptcount = 0\n",
    "        cptidx = 0\n",
    "        for jdx, paramkey in enumerate(paramdata): \n",
    "     \n",
    "            if paramkey not in offset_vars:\n",
    "                params.add(prefixdata+str(idx)+prefixcpt+str(cptidx)+'_'+paramkey.rstrip(string.digits), value=paramdata[paramkey][0], \n",
    "                               min=paramdata[paramkey][1], max=paramdata[paramkey][2], vary=paramdata[paramkey][3])\n",
    "\n",
    "                cptcount += 1    \n",
    "                \n",
    "                if cptcount%vars_per_cpt == 0:\n",
    "                    cptidx += 1\n",
    "            else:\n",
    "                params.add(prefixdata+str(idx)+'_'+paramkey.rstrip(string.digits), value=paramdata[paramkey][0], \n",
    "                               min=paramdata[paramkey][1], max=paramdata[paramkey][2], vary=paramdata[paramkey][3])\n",
    "            \n",
    "            #fix the parameters that are the same for each component and dataset\n",
    "            if ((cptidx != 0 or idx !=0) and paramkey.rstrip(string.digits) in fixed_vars):\n",
    "                params[prefixdata+str(idx)+prefixcpt+str(cptidx)+'_'+paramkey.rstrip(string.digits)].expr = prefixdata+'0'+prefixcpt+'0_'+paramkey.rstrip(string.digits)\n",
    "                params[prefixdata+str(idx)+prefixcpt+str(cptidx)+'_'+paramkey.rstrip(string.digits)].vary = False\n",
    "                \n",
    "            #fix the parameters that are the same for each component, but not dataset    \n",
    "           # elif (idx != 0 and paramkey in fixed_cpt_vars):\n",
    "           #     params[prefixdata+str(idx)+prefixcpt+str(cptidx)+'_'+paramkey.rstrip(string.digits)].vary = True\n",
    "                \n",
    "            #otherwise if more than one dataset, fix the other variables to those from dataset 1\n",
    "            elif (idx != 0 and any(var in paramkey for var in fixed_data_vars)):\n",
    "                #this needs fixing\n",
    "                params[prefixdata+str(idx)+prefixcpt+str(cptidx)+'_'+paramkey.rstrip(string.digits)].expr = prefixdata+'0'+prefixcpt+'0_'+paramkey.rstrip(string.digits)\n",
    "                params[prefixdata+str(idx)+prefixcpt+str(cptidx)+'_'+paramkey.rstrip(string.digits)].vary = False\n",
    "\n",
    "\n",
    "    \n",
    "                \n",
    "\n",
    "    return params\n",
    "\n",
    "        \n",
    "#create_params_object([1,2], paramdata, 'd', 'c', ncpts=2, vars_per_cpt=2)   \n",
    "test = global_fitter(t, traces[0:2], paramdata, None, None, ncpts=2, vars_per_cpt=4, \n",
    "                    prefixdata='d', prefixcpt='c', model=lf.models.ExponentialGaussianModel,\n",
    "                    method='differential_evolution')"
   ]
  },
  {
   "cell_type": "code",
   "execution_count": null,
   "id": "5ce92fa0-9d82-4b77-a8e9-687aca43c2bf",
   "metadata": {},
   "outputs": [],
   "source": []
  },
  {
   "cell_type": "code",
   "execution_count": 270,
   "id": "ed1639d9-3854-4ef0-bf99-cd1fc73f0808",
   "metadata": {},
   "outputs": [
    {
     "data": {
      "text/html": [
       "<h2>Fit Result</h2> <table class=\"jp-toc-ignore\"><caption class=\"jp-toc-ignore\">Fit Statistics</caption><tr><td style='text-align:left'>fitting method</td><td style='text-align:right'>differential_evolution</td></tr><tr><td style='text-align:left'># function evals</td><td style='text-align:right'>17364</td></tr><tr><td style='text-align:left'># data points</td><td style='text-align:right'>478</td></tr><tr><td style='text-align:left'># variables</td><td style='text-align:right'>8</td></tr><tr><td style='text-align:left'>chi-square</td><td style='text-align:right'> 0.18913995</td></tr><tr><td style='text-align:left'>reduced chi-square</td><td style='text-align:right'> 4.0243e-04</td></tr><tr><td style='text-align:left'>Akaike info crit.</td><td style='text-align:right'>-3729.07205</td></tr><tr><td style='text-align:left'>Bayesian info crit.</td><td style='text-align:right'>-3695.71517</td></tr></table><table class=\"jp-toc-ignore\"><caption>Parameters</caption><tr><th style='text-align:left'>name</th><th style='text-align:left'>value</th><th style='text-align:left'>initial value</th><th style='text-align:left'>min</th><th style='text-align:left'>max</th><th style='text-align:left'>vary</th><th style='text-align:right'>expression</th></tr><tr><td style='text-align:left'>d0c0_center</td><td style='text-align:left'> 0.25812838</td><td style='text-align:left'>0</td><td style='text-align:left'>-0.30000000</td><td style='text-align:left'> 0.30000000</td><td style='text-align:left'>True</td><td style='text-align:right'></td></tr><tr><td style='text-align:left'>d0c0_sigma</td><td style='text-align:left'> 0.23292828</td><td style='text-align:left'>0.3</td><td style='text-align:left'> 0.00000000</td><td style='text-align:left'> 0.50000000</td><td style='text-align:left'>True</td><td style='text-align:right'></td></tr><tr><td style='text-align:left'>d0c0_gamma</td><td style='text-align:left'> 0.14499791</td><td style='text-align:left'>1</td><td style='text-align:left'> 1.0000e-06</td><td style='text-align:left'> 20.0000000</td><td style='text-align:left'>True</td><td style='text-align:right'></td></tr><tr><td style='text-align:left'>d0c0_amplitude</td><td style='text-align:left'> 0.69094758</td><td style='text-align:left'>0</td><td style='text-align:left'>-5.00000000</td><td style='text-align:left'> 5.00000000</td><td style='text-align:left'>True</td><td style='text-align:right'></td></tr><tr><td style='text-align:left'>d0c1_center</td><td style='text-align:left'> 0.25812838</td><td style='text-align:left'>0</td><td style='text-align:left'>-0.30000000</td><td style='text-align:left'> 0.30000000</td><td style='text-align:left'>False</td><td style='text-align:right'>d0c0_center</td></tr><tr><td style='text-align:left'>d0c1_sigma</td><td style='text-align:left'> 0.23292828</td><td style='text-align:left'>0.3</td><td style='text-align:left'> 0.00000000</td><td style='text-align:left'> 0.50000000</td><td style='text-align:left'>False</td><td style='text-align:right'>d0c0_sigma</td></tr><tr><td style='text-align:left'>d0c1_gamma</td><td style='text-align:left'> 19.9901062</td><td style='text-align:left'>1</td><td style='text-align:left'> 1.0000e-06</td><td style='text-align:left'> 20.0000000</td><td style='text-align:left'>True</td><td style='text-align:right'></td></tr><tr><td style='text-align:left'>d0c1_amplitude</td><td style='text-align:left'> 0.14072805</td><td style='text-align:left'>0</td><td style='text-align:left'>-5.00000000</td><td style='text-align:left'> 5.00000000</td><td style='text-align:left'>True</td><td style='text-align:right'></td></tr><tr><td style='text-align:left'>d0_c</td><td style='text-align:left'> 0.00000000</td><td style='text-align:left'>0</td><td style='text-align:left'> 0.00000000</td><td style='text-align:left'> 2.00000000</td><td style='text-align:left'>False</td><td style='text-align:right'></td></tr><tr><td style='text-align:left'>d1c0_center</td><td style='text-align:left'> 0.25812838</td><td style='text-align:left'>0</td><td style='text-align:left'>-0.30000000</td><td style='text-align:left'> 0.30000000</td><td style='text-align:left'>False</td><td style='text-align:right'>d0c0_center</td></tr><tr><td style='text-align:left'>d1c0_sigma</td><td style='text-align:left'> 0.23292828</td><td style='text-align:left'>0.3</td><td style='text-align:left'> 0.00000000</td><td style='text-align:left'> 0.50000000</td><td style='text-align:left'>False</td><td style='text-align:right'>d0c0_sigma</td></tr><tr><td style='text-align:left'>d1c0_gamma</td><td style='text-align:left'> 0.14499791</td><td style='text-align:left'>1</td><td style='text-align:left'> 1.0000e-06</td><td style='text-align:left'> 20.0000000</td><td style='text-align:left'>False</td><td style='text-align:right'>d0c0_gamma</td></tr><tr><td style='text-align:left'>d1c0_amplitude</td><td style='text-align:left'>-3.60580704</td><td style='text-align:left'>0</td><td style='text-align:left'>-5.00000000</td><td style='text-align:left'> 5.00000000</td><td style='text-align:left'>True</td><td style='text-align:right'></td></tr><tr><td style='text-align:left'>d1c1_center</td><td style='text-align:left'> 0.25812838</td><td style='text-align:left'>0</td><td style='text-align:left'>-0.30000000</td><td style='text-align:left'> 0.30000000</td><td style='text-align:left'>False</td><td style='text-align:right'>d0c0_center</td></tr><tr><td style='text-align:left'>d1c1_sigma</td><td style='text-align:left'> 0.23292828</td><td style='text-align:left'>0.3</td><td style='text-align:left'> 0.00000000</td><td style='text-align:left'> 0.50000000</td><td style='text-align:left'>False</td><td style='text-align:right'>d0c0_sigma</td></tr><tr><td style='text-align:left'>d1c1_gamma</td><td style='text-align:left'> 0.14499791</td><td style='text-align:left'>1</td><td style='text-align:left'> 1.0000e-06</td><td style='text-align:left'> 20.0000000</td><td style='text-align:left'>False</td><td style='text-align:right'>d0c0_gamma</td></tr><tr><td style='text-align:left'>d1c1_amplitude</td><td style='text-align:left'> 2.16762731</td><td style='text-align:left'>0</td><td style='text-align:left'>-5.00000000</td><td style='text-align:left'> 5.00000000</td><td style='text-align:left'>True</td><td style='text-align:right'></td></tr><tr><td style='text-align:left'>d1_c</td><td style='text-align:left'> 0.00000000</td><td style='text-align:left'>0</td><td style='text-align:left'> 0.00000000</td><td style='text-align:left'> 2.00000000</td><td style='text-align:left'>False</td><td style='text-align:right'></td></tr></table>"
      ],
      "text/plain": [
       "<lmfit.minimizer.MinimizerResult at 0x1b4618cb0>"
      ]
     },
     "execution_count": 270,
     "metadata": {},
     "output_type": "execute_result"
    }
   ],
   "source": [
    "\n",
    "\n",
    "for i, _ in enumerate(traces):\n",
    "    resid = test.residual.reshape(len(traces), len(traces[0]))\n",
    "    fitdata = traces[i] - resid[i]\n",
    "    plt.figure()\n",
    "    plt.plot(t, fitdata, color='C0')\n",
    "    plt.scatter(t, traces[i], color='C1')\n",
    "    plt.xscale('symlog')\n",
    "\n",
    "test"
   ]
  },
  {
   "cell_type": "code",
   "execution_count": 209,
   "id": "9054d3d7-5b36-482a-996e-ef1c2be0920f",
   "metadata": {},
   "outputs": [
    {
     "data": {
      "text/plain": [
       "0"
      ]
     },
     "execution_count": 209,
     "metadata": {},
     "output_type": "execute_result"
    }
   ],
   "source": [
    "2%2"
   ]
  },
  {
   "cell_type": "code",
   "execution_count": 25,
   "id": "6d041d25-b178-4b0a-985f-dced54adea7a",
   "metadata": {},
   "outputs": [
    {
     "data": {
      "text/plain": [
       "<matplotlib.legend.Legend at 0x15a8f0fe0>"
      ]
     },
     "execution_count": 25,
     "metadata": {},
     "output_type": "execute_result"
    }
   ],
   "source": [
    "\n",
    "\n",
    "DAS1 = 2.1752*ferric_soret_total.singular_values[0]*ferric_soret_total.relevant_spectra[0] \\\n",
    "        -3.108*ferric_soret_total.singular_values[1]*ferric_soret_total.relevant_spectra[1]\n",
    "\n",
    "DAS2 = 0.4311*ferric_soret_total.singular_values[0]*ferric_soret_total.relevant_spectra[0] \\\n",
    "     + 1.0255*ferric_soret_total.singular_values[1]*ferric_soret_total.relevant_spectra[1]\n",
    "\n",
    "plt.figure()\n",
    "plt.plot(ferric_soret_total.wavelengths, DAS1, label='DAS, 4.5ps cpt')\n",
    "plt.plot(ferric_soret_total.wavelengths, DAS2, label='DAS, 0.5ps cpt')\n",
    "plt.legend()"
   ]
  },
  {
   "cell_type": "code",
   "execution_count": null,
   "id": "8e0e4371-68d1-41c6-99db-659d86b6e117",
   "metadata": {},
   "outputs": [],
   "source": [
    "ferric_soret_total_cut = copy.deepcopy(ferric_soret_total)\n",
    "\n",
    "#ferric_soret_total_cut.cut_wavelengths(400,415)\n",
    "ferric_soret_total_cut.cut_wavelengths(510, 520)\n"
   ]
  },
  {
   "cell_type": "code",
   "execution_count": 99,
   "id": "1ba5b5e3-2787-47dc-af8c-14479ba86904",
   "metadata": {},
   "outputs": [],
   "source": [
    "ferric_soret_total.peek()"
   ]
  },
  {
   "cell_type": "code",
   "execution_count": null,
   "id": "afb9363d-8577-4f52-9446-a1bed1cf2609",
   "metadata": {},
   "outputs": [],
   "source": [
    "times = [-0.1,0.1, 0.5, 1., 5, 5, 50]\n",
    "traces = []\n",
    "plt.close('all')\n",
    "fig = plt.figure()\n",
    "ax = fig.gca()\n",
    "colours = np.flipud(plt.cm.viridis(np.linspace(0, 1, len(times))))\n",
    "\n",
    "insax = ax.inset_axes([0.38, 0.5, 0.4, 0.4])\n",
    "\n",
    "for idx, time in enumerate(times):\n",
    "    ax.plot(ferric_soret_total_cut.wavelengths, \n",
    "             ferric_soret_total_cut.get_wavelength_trace(time), label=str(time)+'ps', color=colours[idx])\n",
    "\n",
    "    insax.plot(ferric_soret_total_cut.wavelengths, \n",
    "             ferric_soret_total_cut.get_wavelength_trace(time), label=str(time)+'ps', color=colours[idx])\n",
    "\n",
    "\n",
    "insax.set_xlim(520, 640)\n",
    "insax.set_ylim(-0.5,1.5)\n",
    "insax.set_yticks([0, 1])\n",
    "insax.set_xlabel('Wavelength (nm)')\n",
    "insax.set_ylabel(r'$\\Delta OD$')\n",
    "insax.set_xticks([520, 580, 640])\n",
    "ax.set_xlabel('Wavelength (nm)')\n",
    "ax.set_ylabel(r'$\\Delta OD$')\n",
    "ax.set_xlim(350,700)\n",
    "ax.set_ylim(-3,12)\n",
    "ax.legend()\n",
    "\n"
   ]
  },
  {
   "cell_type": "code",
   "execution_count": null,
   "id": "a9d8af79-b3f9-43f3-ae57-fe995f36e0a9",
   "metadata": {},
   "outputs": [],
   "source": [
    "ferric_soret_total.compute_SVD()"
   ]
  },
  {
   "cell_type": "code",
   "execution_count": null,
   "id": "faa62776-49f3-402c-8471-d8089fd86605",
   "metadata": {},
   "outputs": [],
   "source": [
    "%autoreload 1\n",
    "plt.close('all')\n",
    "plt.figure()\n",
    "sing = ferric_soret_total.singular_values\n",
    "for idx, spectrum in enumerate(ferric_soret_total.principal_spectra[0:3]):\n",
    "    rp.RugTools.cut_wavelengths_spectrum(ferric_soret_total.wavelengths, spectrum, 510, 520)\n",
    "    #rp.RugTools.cut_wavelengths_spectrum(ferric_soret_total.wavelengths, spectrum, 405, 415)\n",
    "    plt.plot(ferric_soret_total.wavelengths, spectrum, label='Component '+str(idx+1))\n",
    "\n",
    "plt.legend()\n",
    "plt.xlabel('Wavelength (nm)')\n",
    "plt.ylabel(r'$\\Delta OD$')\n",
    "plt.xlim(350, 700)"
   ]
  },
  {
   "cell_type": "code",
   "execution_count": null,
   "id": "92bab632-e1e8-4418-9a36-34e242ab913d",
   "metadata": {},
   "outputs": [],
   "source": [
    "plt.figure()\n",
    "plt.plot(ferric_soret_total.times, ferric_soret_total.get_time_trace(410))\n",
    "plt.plot(solvent_soret_shg.times, solvent_soret_shg.get_time_trace(410))\n"
   ]
  },
  {
   "cell_type": "code",
   "execution_count": null,
   "id": "271489f8-046a-4ae2-8d5e-9ccf8558262f",
   "metadata": {},
   "outputs": [],
   "source": [
    "ferric_soret_total.peek(min_max=(-10, 1))"
   ]
  }
 ],
 "metadata": {
  "kernelspec": {
   "display_name": "Python 3 (ipykernel)",
   "language": "python",
   "name": "python3"
  },
  "language_info": {
   "codemirror_mode": {
    "name": "ipython",
    "version": 3
   },
   "file_extension": ".py",
   "mimetype": "text/x-python",
   "name": "python",
   "nbconvert_exporter": "python",
   "pygments_lexer": "ipython3",
   "version": "3.12.4"
  }
 },
 "nbformat": 4,
 "nbformat_minor": 5
}
