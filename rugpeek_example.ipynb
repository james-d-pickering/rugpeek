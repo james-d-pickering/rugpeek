{
 "cells": [
  {
   "cell_type": "code",
   "execution_count": 1,
   "id": "fae215b3-58c4-4ac9-ac31-5f749a3d0908",
   "metadata": {},
   "outputs": [],
   "source": [
    "%load_ext autoreload \n",
    "%aimport rugpeek_functions \n",
    "import matplotlib.pyplot as plt\n",
    "import numpy as np\n",
    "import lmfit as lf\n",
    "import matplotlib as mpl\n",
    "import sys"
   ]
  },
  {
   "cell_type": "code",
   "execution_count": 2,
   "id": "4ec39f2c-c47d-4017-861d-d93c4118bed2",
   "metadata": {},
   "outputs": [],
   "source": [
    "data_file_ferric_soret_shg0 = \"../data/aarhus_TA_jan24/2024-01-12/FerricMb_80uM_409nm_SHG_10kHz_TA_1_matrix\"\n",
    "data_file_ferric_soret_shg1 = \"../data/aarhus_TA_jan24/2024-01-12/FerricMb_80uM_409nm_SHG_10kHz_TA_2_matrix\"\n",
    "data_file_ferric_soret_shg2 = \"../data/aarhus_TA_jan24/2024-01-12/FerricMb_80uM_409nm_SHG_10kHz_TA_3_matrix\"\n",
    "\n",
    "data_file_ferric_soret_fun0 = \"../data/aarhus_TA_jan24/2024-01-12/FerricMb_80uM_409nm_FUN_10kHz_TA_1_matrix\"\n",
    "data_file_ferric_soret_fun1 = \"../data/aarhus_TA_jan24/2024-01-12/FerricMb_80uM_409nm_FUN_10kHz_TA_2_matrix\"\n",
    "data_file_ferric_soret_fun2 = \"../data/aarhus_TA_jan24/2024-01-12/FerricMb_80uM_409nm_FUN_10kHz_TA_3_matrix\"\n",
    "\n",
    "solvent_ferric_soret_shg = \"../data/aarhus_TA_jan24/2024-01-16/milliQ_409nm_SHG_chirp_1_matrix\"\n",
    "solvent_ferric_soret_fun = \"../data/aarhus_TA_jan24/2024-01-16/milliQ_409nm_FUN_chirp_1_matrix\""
   ]
  },
  {
   "cell_type": "code",
   "execution_count": 3,
   "id": "fd63a2d7-d046-4238-b65d-32c32ed45388",
   "metadata": {},
   "outputs": [
    {
     "name": "stdout",
     "output_type": "stream",
     "text": [
      "Missing: Concentration\n",
      "Missing: Concentration\n"
     ]
    }
   ],
   "source": [
    "%autoreload 1\n",
    "rp = rugpeek_functions\n",
    "#JDP create an instance of the Rug class\n",
    "ferric_soret_shg = rp.RugTools.average_rugs([rp.Rug(data_file_ferric_soret_shg0, \".dat\")])\n",
    "                                            # rp.Rug(data_file_ferric_soret_shg1, \".dat\"),\n",
    "                                            # rp.Rug(data_file_ferric_soret_shg2, \".dat\")])\n",
    "\n",
    "ferric_soret_fun = rp.RugTools.average_rugs([rp.Rug(data_file_ferric_soret_fun0, \".dat\")])\n",
    "                                            # rp.Rug(data_file_ferric_soret_fun1, \".dat\"),\n",
    "                                            # rp.Rug(data_file_ferric_soret_fun2, \".dat\")])\n",
    "\n",
    "solvent_soret_shg = rp.Rug(solvent_ferric_soret_shg, \".dat\")\n",
    "solvent_soret_fun = rp.Rug(solvent_ferric_soret_fun, \".dat\")\n",
    "\n",
    "\n",
    "#combined = rp.RugTools.combine_rugs_wavelengths([ferric_soret_shg, ferric_soret_fun])\n",
    "#rp.RugTools.average_rugs([ferric_soret_shg, ferric_soret_fun])"
   ]
  },
  {
   "cell_type": "code",
   "execution_count": 4,
   "id": "57258110-76c5-417e-8ece-b866a468aeb2",
   "metadata": {},
   "outputs": [
    {
     "name": "stdout",
     "output_type": "stream",
     "text": [
      "Offset corrected\n",
      "Offset corrected\n"
     ]
    }
   ],
   "source": [
    "%matplotlib qt5\n",
    "\n",
    "#ferric_soret_shg = rp.Rug(data_file_ferric_soret_shg, \".dat\")\n",
    "#ferric_soret_fun = rp.Rug(data_file_ferric_soret_fun, \".dat\")\n",
    "#solvent_soret_shg = rp.Rug(solvent_ferric_soret_shg, \".dat\")\n",
    "#solvent_soret_fun = rp.Rug(solvent_ferric_soret_fun, \".dat\")\n",
    "\n",
    "solvent_soret_shg.get_dispersion_correction_eye(degree=2)\n",
    "coefs_soret_shg = solvent_soret_shg.dispersion_coefs\n",
    "solvent_soret_shg.apply_dispersion_correction(coefs=coefs_soret_shg)\n",
    "ferric_soret_shg.apply_dispersion_correction(coefs=coefs_soret_shg)\n",
    "ferric_soret_shg.offset(coef=coefs_soret_shg[-1])\n",
    "#ferric_soret_shg.peek()\n",
    "\n",
    "solvent_soret_fun.get_dispersion_correction_eye(degree=2)\n",
    "coefs_soret_fun = solvent_soret_fun.dispersion_coefs\n",
    "ferric_soret_fun.apply_dispersion_correction(coefs=coefs_soret_fun)\n",
    "solvent_soret_fun.apply_dispersion_correction(coefs=coefs_soret_fun)\n",
    "\n",
    "ferric_soret_fun.offset(coef=coefs_soret_fun[-1])\n",
    "#ferric_soret_fun.peek()\n",
    "plt.close('all')"
   ]
  },
  {
   "cell_type": "code",
   "execution_count": 5,
   "id": "4a19236b-9247-4692-90bf-92fcb880fe6b",
   "metadata": {},
   "outputs": [],
   "source": [
    "import copy\n",
    "ferric_soret_shg_mod = copy.deepcopy(ferric_soret_shg)\n",
    "ferric_soret_fun_mod = copy.deepcopy(ferric_soret_fun)\n",
    "solvent_soret_shg_mod = copy.deepcopy(solvent_soret_shg)\n",
    "solvent_soret_fun_mod = copy.deepcopy(solvent_soret_fun)\n",
    "\n",
    "ferric_soret_rugs = [ferric_soret_shg_mod, ferric_soret_fun_mod]\n",
    "ferric_soret_total = rp.RugTools.combine_rugs_wavelengths(ferric_soret_rugs, \"ferric_soret_combined_matrix\")\n",
    "\n",
    "solvent_soret_rugs = [solvent_soret_shg_mod, solvent_soret_fun_mod]\n",
    "solvent_soret_total = rp.RugTools.combine_rugs_wavelengths(solvent_soret_rugs, \"solvent_soret_combined_matrix\")\n"
   ]
  },
  {
   "cell_type": "code",
   "execution_count": 6,
   "id": "ad8519d2-9411-42d4-a7a0-fdde3f141a7b",
   "metadata": {},
   "outputs": [
    {
     "name": "stdout",
     "output_type": "stream",
     "text": [
      "\n",
      "Taken average background\n",
      "(239, 453) (239, 453)\n"
     ]
    }
   ],
   "source": [
    "ferric_soret_total.cut_wavelengths(401,414, fill=0)\n",
    "ferric_soret_total.cut_wavelengths(512,518, fill=0)\n",
    "ferric_soret_total.background_subtract()\n",
    "ferric_soret_total.peek()"
   ]
  },
  {
   "cell_type": "code",
   "execution_count": 100,
   "id": "41555b0d-8ad4-4012-be4c-d8508c42438b",
   "metadata": {},
   "outputs": [],
   "source": [
    "solvent_soret_total.cut_wavelengths(400,418, fill=0)\n",
    "solvent_soret_total.cut_wavelengths(512,518, fill=0)\n",
    "#solvent_soret_total.background_subtract()\n",
    "solvent_soret_total.peek()"
   ]
  },
  {
   "cell_type": "code",
   "execution_count": null,
   "id": "25e4b23b-af27-49ab-ab21-a3f68d19b4d2",
   "metadata": {},
   "outputs": [],
   "source": [
    "%autoreload 1\n",
    "ferric_soret_total.background_subtract()"
   ]
  },
  {
   "cell_type": "code",
   "execution_count": 96,
   "id": "ea726877-67fd-4458-a2d3-6125f7c6c40e",
   "metadata": {},
   "outputs": [
    {
     "name": "stdout",
     "output_type": "stream",
     "text": [
      "Taking threshold for singular value significance as 100x larger than smallest singular value (38.203806952).\n",
      "Found 2 significant singular values\n",
      "81.61 % of data variance described by component 1.\n",
      "16.34 % of data variance described by component 2.\n",
      "Overall, 97.95 % of data variance described by the first 2 components.\n",
      "Leaving 2.05 % of data variance described by the the remaining 237 components which are below threshold (roughly 0.01 % per component).\n"
     ]
    },
    {
     "data": {
      "text/plain": [
       "<matplotlib.legend.Legend at 0x159407380>"
      ]
     },
     "execution_count": 96,
     "metadata": {},
     "output_type": "execute_result"
    }
   ],
   "source": [
    "%autoreload 1\n",
    "plt.close('all')\n",
    "#ferric_soret_total.reset_matrix()\n",
    "\n",
    "\n",
    "#ferric_soret_total.limit_times(tmin=10, tmax=1000)\n",
    "#ferric_soret_total.limit_wavelengths(wlmin=413, wlmax=700)\n",
    "                                                       \n",
    "ferric_soret_total.compute_SVD(threshold=100)\n",
    "\n",
    "\n",
    "#cpt1 = np.outer(ferric_soret_total.relevant_kinetics[2],\n",
    "     #           ferric_soret_total.relevant_spectra[2])\n",
    "'''\n",
    "fig = plt.figure()\n",
    "ax = fig.gca()\n",
    "cmap='PuOr'\n",
    "vmin = cpt1.min()\n",
    "vmax = cpt1.max()\n",
    "im = ax.pcolormesh(ferric_soret_total.wavelengths, ferric_soret_total.times, cpt1,\n",
    "            cmap=cmap, norm=mpl.colors.TwoSlopeNorm(vcenter=0, vmin=vmin, vmax=vmax))\n",
    "ax.set_yscale('symlog')\n",
    "'''\n",
    "\n",
    "plt.figure()\n",
    "for i, spectrum in enumerate(ferric_soret_total.relevant_kinetics):\n",
    "    plt.plot(ferric_soret_total.times, spectrum, label='Component '+str(i+1))\n",
    "\n",
    "plt.xscale('symlog')\n",
    "plt.legend()\n",
    "\n",
    "plt.figure()\n",
    "for i, spectrum in enumerate(ferric_soret_total.relevant_spectra):\n",
    "    plt.plot(ferric_soret_total.wavelengths, spectrum, label='Component '+str(i+1))\n",
    "\n",
    "plt.legend()\n"
   ]
  },
  {
   "cell_type": "code",
   "execution_count": 30,
   "id": "63801bb0-f575-4017-b1dc-855a7c896aba",
   "metadata": {},
   "outputs": [
    {
     "data": {
      "text/plain": [
       "<matplotlib.legend.Legend at 0x143d11af0>"
      ]
     },
     "execution_count": 30,
     "metadata": {},
     "output_type": "execute_result"
    }
   ],
   "source": [
    "plt.figure()\n",
    "times = [400, 420, 430, 440, 450, 500, 600]\n",
    "for time in times:\n",
    "    plt.plot(ferric_soret_total.times, ferric_soret_total.get_time_trace(time), label=time)\n",
    "\n",
    "plt.legend()"
   ]
  },
  {
   "cell_type": "code",
   "execution_count": 97,
   "id": "07826fb6-13b8-4e34-96bc-9da946bbbba8",
   "metadata": {},
   "outputs": [
    {
     "name": "stdout",
     "output_type": "stream",
     "text": [
      "Fitting component 1 of the SVD.\n",
      "Fitting to 2 exponential decays.\n",
      "Fitted IRF as centered at 0.0826 ps and with 0.0567 ps width.\n",
      "Lifetime is: 4.0805 +/- 0.0003 ps. Corresponding amplitude is 2.1928.\n",
      "Lifetime is: 0.5347 +/- 0.2104 ps. Corresponding amplitude is 0.3704.\n",
      "Fitting component 2 of the SVD.\n",
      "Fitting to 2 exponential decays.\n",
      "Fitted IRF as centered at 0.0826 ps and with 0.0567 ps width.\n",
      "Lifetime is: 5.1488 +/- 0.0002 ps. Corresponding amplitude is -3.0872.\n",
      "Lifetime is: 0.4866 +/- 0.1448 ps. Corresponding amplitude is 0.9824.\n"
     ]
    }
   ],
   "source": [
    "#### Fitting the actual spectra\n",
    "\n",
    "%autoreload 2\n",
    "t = ferric_soret_total.times\n",
    "\n",
    "#plt.close('all')\n",
    "def normalise(x):\n",
    "    a = (x-np.min(x))/np.max(x)\n",
    "    return a\n",
    "\n",
    "def normalise_scale(x):\n",
    "    return x/np.max(x)\n",
    "\n",
    "def inverse_uncertainty(x, s):\n",
    "    s_inv = s / (x**2)\n",
    "    return s_inv\n",
    "    \n",
    "traces = ferric_soret_total.relevant_kinetics[0:3]\n",
    "\n",
    "ncpts = 2\n",
    "\n",
    "IRF_center_val = 0\n",
    "IRF_center_min = -0.3\n",
    "IRF_center_max = 0.3\n",
    "IRF_center= [IRF_center_val, IRF_center_min, IRF_center_max]\n",
    "\n",
    "IRF_sigma_val = 0.4\n",
    "IRF_sigma_min = 0.05\n",
    "IRF_sigma_max = 1\n",
    "IRF_sigma= [IRF_sigma_val, IRF_sigma_min, IRF_sigma_max]\n",
    "\n",
    "decay_amplitude_center = [1, 1, 1]\n",
    "decay_amplitude_min = [-5, -5, -5]\n",
    "decay_amplitude_max = [5, 5, 5]\n",
    "\n",
    "decay_gamma_center = [1, 1, 1]\n",
    "decay_gamma_min = [1E-6, 1E-6, 1E-6]\n",
    "decay_gamma_max = [20, 20, 20]\n",
    "mods = []\n",
    "\n",
    "for idx, trace in enumerate(traces):\n",
    "    y = normalise_scale(trace)\n",
    "    print(f'Fitting component {idx+1} of the SVD.')\n",
    "    print(f'Fitting to {ncpts} exponential decays.')\n",
    "    \n",
    "    for n in range(ncpts):\n",
    "        if n == 0:\n",
    "            mod = lf.models.ExponentialGaussianModel(prefix='p'+str(n)+'_')\n",
    "            pars = mod.make_params(center = dict(value=IRF_center[0], min=IRF_center[1], \n",
    "                                                 max=IRF_center[2], vary=True),\n",
    "                        sigma = dict(value=IRF_sigma[0], min=IRF_sigma[1], \n",
    "                                     max=IRF_sigma[2], vary=True),\n",
    "                        amplitude = dict(value=decay_amplitude_center[n],min=decay_amplitude_min[n],\n",
    "                                         max=decay_amplitude_max[n], vary=True), \n",
    "                        gamma = dict(value=decay_gamma_center[n], min=decay_gamma_min[n], \n",
    "                                     max=decay_gamma_max[n], vary=True))\n",
    "            model = mod\n",
    "        else:\n",
    "            mod = lf.models.ExponentialGaussianModel(prefix='p'+str(n)+'_')\n",
    "            pars.update(mod.make_params(center = dict(expr='p0_center', vary=False),\n",
    "                        sigma = dict(expr='p0_center', vary=False),\n",
    "                        amplitude = dict(value=decay_amplitude_center[n],min=decay_amplitude_min[n],\n",
    "                                         max=decay_amplitude_max[n], vary=True), \n",
    "                        gamma = dict(value=decay_gamma_center[n], min=decay_gamma_min[n], \n",
    "                                     max=decay_gamma_max[n], vary=True)))\n",
    "            model = model + mod\n",
    "\n",
    "\n",
    "    out = model.fit(y, pars, x=t, method='least_squares')\n",
    "    \n",
    "    plt.figure()\n",
    "    ax = out.plot_fit()\n",
    "    ax.set_xlabel('Time (ps)')\n",
    "    ax.set_ylabel(r'$\\Delta OD')\n",
    "    ax.set_xscale('symlog')\n",
    "    print(f'Fitted IRF as centered at {t0} ps and with {FWHM} ps width.')\n",
    "    for n in range(ncpts):\n",
    "        l1 = np.round(1/out.params['p'+str(n)+'_gamma'].value, 4) \n",
    "        l1_err = np.round(inverse_uncertainty(l1, out.params['p'+str(n)+'_gamma'].stderr), 4)\n",
    "        a1 = np.round(out.params['p'+str(n)+'_amplitude'].value,4)\n",
    "        print(f'Lifetime is: {l1} +/- {l1_err} ps. Corresponding amplitude is {a1}.')\n"
   ]
  },
  {
   "cell_type": "code",
   "execution_count": 98,
   "id": "6d041d25-b178-4b0a-985f-dced54adea7a",
   "metadata": {},
   "outputs": [
    {
     "data": {
      "text/plain": [
       "<matplotlib.legend.Legend at 0x156b9cfb0>"
      ]
     },
     "execution_count": 98,
     "metadata": {},
     "output_type": "execute_result"
    }
   ],
   "source": [
    "DAS1 = 2.1752*ferric_soret_total.singular_values[0]*ferric_soret_total.relevant_spectra[0] \\\n",
    "        -3.108*ferric_soret_total.singular_values[1]*ferric_soret_total.relevant_spectra[1]\n",
    "\n",
    "DAS2 = 0.4311*ferric_soret_total.singular_values[0]*ferric_soret_total.relevant_spectra[0] \\\n",
    "     + 1.0255*ferric_soret_total.singular_values[1]*ferric_soret_total.relevant_spectra[1]\n",
    "\n",
    "plt.figure()\n",
    "plt.plot(ferric_soret_total.wavelengths, DAS1, label='DAS, 4.5ps cpt')\n",
    "plt.plot(ferric_soret_total.wavelengths, DAS2, label='DAS, 0.5ps cpt')\n",
    "plt.legend()"
   ]
  },
  {
   "cell_type": "code",
   "execution_count": null,
   "id": "8e0e4371-68d1-41c6-99db-659d86b6e117",
   "metadata": {},
   "outputs": [],
   "source": [
    "ferric_soret_total_cut = copy.deepcopy(ferric_soret_total)\n",
    "\n",
    "#ferric_soret_total_cut.cut_wavelengths(400,415)\n",
    "ferric_soret_total_cut.cut_wavelengths(510, 520)\n"
   ]
  },
  {
   "cell_type": "code",
   "execution_count": 99,
   "id": "1ba5b5e3-2787-47dc-af8c-14479ba86904",
   "metadata": {},
   "outputs": [],
   "source": [
    "ferric_soret_total.peek()"
   ]
  },
  {
   "cell_type": "code",
   "execution_count": null,
   "id": "afb9363d-8577-4f52-9446-a1bed1cf2609",
   "metadata": {},
   "outputs": [],
   "source": [
    "times = [-0.1,0.1, 0.5, 1., 5, 5, 50]\n",
    "traces = []\n",
    "plt.close('all')\n",
    "fig = plt.figure()\n",
    "ax = fig.gca()\n",
    "colours = np.flipud(plt.cm.viridis(np.linspace(0, 1, len(times))))\n",
    "\n",
    "insax = ax.inset_axes([0.38, 0.5, 0.4, 0.4])\n",
    "for idx, time in enumerate(times):\n",
    "    ax.plot(ferric_soret_total_cut.wavelengths, \n",
    "             ferric_soret_total_cut.get_wavelength_trace(time), label=str(time)+'ps', color=colours[idx])\n",
    "\n",
    "\n",
    "    insax.plot(ferric_soret_total_cut.wavelengths, \n",
    "             ferric_soret_total_cut.get_wavelength_trace(time), label=str(time)+'ps', color=colours[idx])\n",
    "\n",
    "\n",
    "insax.set_xlim(520, 640)\n",
    "insax.set_ylim(-0.5,1.5)\n",
    "insax.set_yticks([0, 1])\n",
    "insax.set_xlabel('Wavelength (nm)')\n",
    "insax.set_ylabel(r'$\\Delta OD$')\n",
    "insax.set_xticks([520, 580, 640])\n",
    "ax.set_xlabel('Wavelength (nm)')\n",
    "ax.set_ylabel(r'$\\Delta OD$')\n",
    "ax.set_xlim(350,700)\n",
    "ax.set_ylim(-3,12)\n",
    "ax.legend()\n",
    "\n"
   ]
  },
  {
   "cell_type": "code",
   "execution_count": null,
   "id": "a9d8af79-b3f9-43f3-ae57-fe995f36e0a9",
   "metadata": {},
   "outputs": [],
   "source": [
    "ferric_soret_total.compute_SVD()"
   ]
  },
  {
   "cell_type": "code",
   "execution_count": null,
   "id": "faa62776-49f3-402c-8471-d8089fd86605",
   "metadata": {},
   "outputs": [],
   "source": [
    "%autoreload 1\n",
    "plt.close('all')\n",
    "plt.figure()\n",
    "sing = ferric_soret_total.singular_values\n",
    "for idx, spectrum in enumerate(ferric_soret_total.principal_spectra[0:3]):\n",
    "    rp.RugTools.cut_wavelengths_spectrum(ferric_soret_total.wavelengths, spectrum, 510, 520)\n",
    "    #rp.RugTools.cut_wavelengths_spectrum(ferric_soret_total.wavelengths, spectrum, 405, 415)\n",
    "    plt.plot(ferric_soret_total.wavelengths, spectrum, label='Component '+str(idx+1))\n",
    "\n",
    "plt.legend()\n",
    "plt.xlabel('Wavelength (nm)')\n",
    "plt.ylabel(r'$\\Delta OD$')\n",
    "plt.xlim(350, 700)"
   ]
  },
  {
   "cell_type": "code",
   "execution_count": null,
   "id": "92bab632-e1e8-4418-9a36-34e242ab913d",
   "metadata": {},
   "outputs": [],
   "source": [
    "plt.figure()\n",
    "plt.plot(ferric_soret_total.times, ferric_soret_total.get_time_trace(410))\n",
    "plt.plot(solvent_soret_shg.times, solvent_soret_shg.get_time_trace(410))\n"
   ]
  },
  {
   "cell_type": "code",
   "execution_count": null,
   "id": "271489f8-046a-4ae2-8d5e-9ccf8558262f",
   "metadata": {},
   "outputs": [],
   "source": [
    "ferric_soret_total.peek(min_max=(-10, 1))"
   ]
  }
 ],
 "metadata": {
  "kernelspec": {
   "display_name": "Python 3 (ipykernel)",
   "language": "python",
   "name": "python3"
  },
  "language_info": {
   "codemirror_mode": {
    "name": "ipython",
    "version": 3
   },
   "file_extension": ".py",
   "mimetype": "text/x-python",
   "name": "python",
   "nbconvert_exporter": "python",
   "pygments_lexer": "ipython3",
   "version": "3.12.4"
  }
 },
 "nbformat": 4,
 "nbformat_minor": 5
}
