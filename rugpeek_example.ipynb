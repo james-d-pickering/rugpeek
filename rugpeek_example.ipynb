{
 "cells": [
  {
   "cell_type": "code",
   "execution_count": null,
   "id": "fae215b3-58c4-4ac9-ac31-5f749a3d0908",
   "metadata": {},
   "outputs": [],
   "source": [
    "%load_ext autoreload \n",
    "#allows you to reload this module without having to restart kernel\n",
    "%aimport rugpeek_functions \n",
    "import matplotlib.pyplot as plt\n",
    "import numpy as np\n",
    "import lmfit as lf\n",
    "import matplotlib as mpl\n",
    "import sys"
   ]
  },
  {
   "cell_type": "markdown",
   "id": "1a198cbd",
   "metadata": {},
   "source": [
    "Define some data filenames to read in"
   ]
  },
  {
   "cell_type": "code",
   "execution_count": null,
   "id": "4ec39f2c-c47d-4017-861d-d93c4118bed2",
   "metadata": {},
   "outputs": [],
   "source": [
    "data_file_ferric_soret_shg0 = \"../data/aarhus_TA_jan24/2024-01-12/FerricMb_80uM_409nm_SHG_10kHz_TA_1_matrix\"\n",
    "data_file_ferric_soret_shg1 = \"../data/aarhus_TA_jan24/2024-01-12/FerricMb_80uM_409nm_SHG_10kHz_TA_2_matrix\"\n",
    "data_file_ferric_soret_shg2 = \"../data/aarhus_TA_jan24/2024-01-12/FerricMb_80uM_409nm_SHG_10kHz_TA_3_matrix\"\n",
    "\n",
    "data_file_ferric_soret_fun0 = \"../data/aarhus_TA_jan24/2024-01-12/FerricMb_80uM_409nm_FUN_10kHz_TA_1_matrix\"\n",
    "data_file_ferric_soret_fun1 = \"../data/aarhus_TA_jan24/2024-01-12/FerricMb_80uM_409nm_FUN_10kHz_TA_2_matrix\"\n",
    "data_file_ferric_soret_fun2 = \"../data/aarhus_TA_jan24/2024-01-12/FerricMb_80uM_409nm_FUN_10kHz_TA_3_matrix\"\n",
    "\n",
    "solvent_ferric_soret_shg = \"../data/aarhus_TA_jan24/2024-01-16/milliQ_409nm_SHG_chirp_1_matrix\"\n",
    "solvent_ferric_soret_fun = \"../data/aarhus_TA_jan24/2024-01-16/milliQ_409nm_FUN_chirp_1_matrix\""
   ]
  },
  {
   "cell_type": "markdown",
   "id": "67c21239",
   "metadata": {},
   "source": [
    "Load them as instances of the Rug class - here wrapped within an average function in case you want to average more than one (commented out in example)"
   ]
  },
  {
   "cell_type": "code",
   "execution_count": null,
   "id": "fd63a2d7-d046-4238-b65d-32c32ed45388",
   "metadata": {},
   "outputs": [],
   "source": [
    "%autoreload 1\n",
    "rp = rugpeek_functions\n",
    "#JDP create an instance of the Rug class\n",
    "ferric_soret_shg = rp.RugTools.average_rugs([rp.Rug(data_file_ferric_soret_shg0, \".dat\")])\n",
    "                                            # rp.Rug(data_file_ferric_soret_shg1, \".dat\"),\n",
    "                                            # rp.Rug(data_file_ferric_soret_shg2, \".dat\")])\n",
    "\n",
    "ferric_soret_fun = rp.RugTools.average_rugs([rp.Rug(data_file_ferric_soret_fun0, \".dat\")])\n",
    "                                            # rp.Rug(data_file_ferric_soret_fun1, \".dat\"),\n",
    "                                            # rp.Rug(data_file_ferric_soret_fun2, \".dat\")])\n",
    "\n",
    "solvent_soret_shg = rp.Rug(solvent_ferric_soret_shg, \".dat\")\n",
    "solvent_soret_fun = rp.Rug(solvent_ferric_soret_fun, \".dat\")\n"
   ]
  },
  {
   "cell_type": "markdown",
   "id": "fb1a022a",
   "metadata": {},
   "source": [
    "Apply dispersion corrections. Get them from the solvent only file and then apply the coefficients to the actual data."
   ]
  },
  {
   "cell_type": "code",
   "execution_count": null,
   "id": "57258110-76c5-417e-8ece-b866a468aeb2",
   "metadata": {},
   "outputs": [],
   "source": [
    "%matplotlib qt5\n",
    "\n",
    "solvent_soret_shg.get_dispersion_correction_eye(degree=2)\n",
    "coefs_soret_shg = solvent_soret_shg.dispersion_coefs\n",
    "solvent_soret_shg.apply_dispersion_correction(coefs=coefs_soret_shg)\n",
    "ferric_soret_shg.apply_dispersion_correction(coefs=coefs_soret_shg)\n",
    "ferric_soret_shg.offset(coef=coefs_soret_shg[-1])\n",
    "\n",
    "\n",
    "solvent_soret_fun.get_dispersion_correction_eye(degree=2)\n",
    "coefs_soret_fun = solvent_soret_fun.dispersion_coefs\n",
    "ferric_soret_fun.apply_dispersion_correction(coefs=coefs_soret_fun)\n",
    "solvent_soret_fun.apply_dispersion_correction(coefs=coefs_soret_fun)\n",
    "ferric_soret_fun.offset(coef=coefs_soret_fun[-1])\n",
    "\n",
    "plt.close('all')\n"
   ]
  },
  {
   "cell_type": "markdown",
   "id": "bdd01791",
   "metadata": {},
   "source": [
    "Deep copy the corrected rugs so that we can easily get back to them if we break something later. Then stitch together the SHG and FUN regions into one big dataset."
   ]
  },
  {
   "cell_type": "code",
   "execution_count": null,
   "id": "4a19236b-9247-4692-90bf-92fcb880fe6b",
   "metadata": {},
   "outputs": [],
   "source": [
    "import copy\n",
    "ferric_soret_shg_mod = copy.deepcopy(ferric_soret_shg)\n",
    "ferric_soret_fun_mod = copy.deepcopy(ferric_soret_fun)\n",
    "solvent_soret_shg_mod = copy.deepcopy(solvent_soret_shg)\n",
    "solvent_soret_fun_mod = copy.deepcopy(solvent_soret_fun)\n",
    "\n",
    "ferric_soret_rugs = [ferric_soret_shg_mod, ferric_soret_fun_mod]\n",
    "ferric_soret_total = rp.RugTools.combine_rugs_wavelengths(ferric_soret_rugs, \"ferric_soret_combined_matrix\")\n",
    "\n",
    "solvent_soret_rugs = [solvent_soret_shg_mod, solvent_soret_fun_mod]\n",
    "solvent_soret_total = rp.RugTools.combine_rugs_wavelengths(solvent_soret_rugs, \"solvent_soret_combined_matrix\")\n"
   ]
  },
  {
   "cell_type": "markdown",
   "id": "9f122d38",
   "metadata": {},
   "source": [
    "Cut out wavelengths that are contaminated by scattering/pump light etc. Best to background subtract after you've done this."
   ]
  },
  {
   "cell_type": "code",
   "execution_count": null,
   "id": "ad8519d2-9411-42d4-a7a0-fdde3f141a7b",
   "metadata": {},
   "outputs": [],
   "source": [
    "%autoreload 1\n",
    "ferric_soret_total.cut_wavelengths([(395,430), (512,518)], fill=0)\n",
    "\n",
    "ferric_soret_total.background_subtract()\n",
    "\n",
    "\n",
    "#JDP uncomment if you want to undo operations on the rug.\n",
    "#ferric_soret_total.reset_matrix()"
   ]
  },
  {
   "cell_type": "markdown",
   "id": "4de8e114",
   "metadata": {},
   "source": [
    "Compute and plot an SVD - see functions for parameters."
   ]
  },
  {
   "cell_type": "code",
   "execution_count": null,
   "id": "ea726877-67fd-4458-a2d3-6125f7c6c40e",
   "metadata": {},
   "outputs": [],
   "source": [
    "%autoreload 1\n",
    "plt.close('all')\n",
    "\n",
    "#JDP uncomment if you want to limit stuff\n",
    "#ferric_soret_total.limit_times(tmin=10, tmax=1000)\n",
    "#ferric_soret_total.limit_wavelengths(wlmin=413, wlmax=700)\n",
    "                                                       \n",
    "ferric_soret_total.compute_SVD(threshold=100)\n",
    "\n",
    "ferric_soret_total.plot_SVD()\n"
   ]
  },
  {
   "cell_type": "markdown",
   "id": "e70ff340",
   "metadata": {},
   "source": [
    "Small helper functions that let you get traces and spectra at given times/wavelengths - example below."
   ]
  },
  {
   "cell_type": "code",
   "execution_count": null,
   "id": "63801bb0-f575-4017-b1dc-855a7c896aba",
   "metadata": {},
   "outputs": [],
   "source": [
    "\n",
    "wavelengths = [460, 455, 450, 445, 440, 435, 390, 385, 380, 375, 370]\n",
    "decays = ferric_soret_total.get_time_trace(wavelengths, plot=True)\n",
    "\n",
    "times = [-1, 0, 1, 10, 100]\n",
    "spectra = ferric_soret_total.get_wavelength_trace(times, plot=True)\n",
    "\n"
   ]
  },
  {
   "cell_type": "markdown",
   "id": "319cad0e",
   "metadata": {},
   "source": [
    "Do some fits using the global fitter - slightly WIP...."
   ]
  },
  {
   "cell_type": "code",
   "execution_count": null,
   "id": "04e43c57-6b41-428e-968d-043448ec7cdb",
   "metadata": {},
   "outputs": [],
   "source": [
    "#  paramdata needs to include all the parameters that are used to fit one dataset\n",
    "# if using inbuilt lmfit models the names need to match what is expected \n",
    "# numbers are just used to differentiate them, and are replaced with prefixes later \n",
    "\n",
    "\n",
    "# need to fix this so it checks the length of the params dictionary\n",
    "paramdata = {'center': [0, -0.3, 0.3, True],\n",
    "             'sigma': [0.4, 0.0, 0.5, True],\n",
    "             'gamma': [1, 1E-6, 20, True],\n",
    "             'amplitude': [0, -5, 5, True],\n",
    "\n",
    "             'center2': [0, -0.3, 0.3, True],\n",
    "             'sigma2': [0.4, 0.0, 0.5, True],\n",
    "             'gamma2': [1, 1E-6, 20, True],\n",
    "             'amplitude2': [0, -5, 5, True],\n",
    "\n",
    "             'center3': [0, -0.3, 0.3, True],\n",
    "             'sigma3': [0.4, 0.0, 0.5, True],\n",
    "             'gamma3': [1, 1E-6, 30, True],\n",
    "             'amplitude3': [0, -5, 5, True]}\n",
    "           #  'c': [0, 0, 2, False]\n",
    "           # }\n",
    "\n",
    "\n",
    "#need a way to check that the number of suppplied params matches expected components\n",
    "\n",
    "#these are bits that are common to each component and to each dataset\n",
    "fixed_vars = ['center','sigma']\n",
    "\n",
    "#these are bits that apply to one whole dataset, but vary across different datasets ('offsets')\n",
    "offset_vars = [] \n",
    "\n",
    "#these are bits that vary across components, but are commmon to each dataset\n",
    "fixed_data_vars = ['gamma'] \n",
    "\n",
    "# wavelengths of time slices to fit to\n",
    "wavelengths = [455, 450, 445, 440, 435, 390, 385, 380]\n",
    "traces = np.array(ferric_soret_total.get_time_trace(wavelengths))\n",
    "t = ferric_soret_total.times\n",
    "ncpts = 2\n",
    "vars_per_cpt = 4\n",
    "\n",
    "#call the global fitter to fit to a sum of exponential gaussians\n",
    "out = rp.RugFits.global_fitter(t, traces, paramdata, None, None, ncpts=ncpts, vars_per_cpt=vars_per_cpt, \n",
    "                    prefixdata='d', prefixcpt='c', model=lf.models.ExponentialGaussianModel,\n",
    "                    method='leastsq', fixed_vars=fixed_vars, offset_vars=offset_vars, fixed_data_vars=fixed_data_vars)\n",
    "\n",
    "#plot the report. make print true for details\n",
    "rp.RugFits.plot_fit_result(out, t, traces, wavelengths, ncpts, print_report=False)"
   ]
  }
 ],
 "metadata": {
  "kernelspec": {
   "display_name": "Python 3 (ipykernel)",
   "language": "python",
   "name": "python3"
  },
  "language_info": {
   "codemirror_mode": {
    "name": "ipython",
    "version": 3
   },
   "file_extension": ".py",
   "mimetype": "text/x-python",
   "name": "python",
   "nbconvert_exporter": "python",
   "pygments_lexer": "ipython3",
   "version": "3.12.4"
  }
 },
 "nbformat": 4,
 "nbformat_minor": 5
}
