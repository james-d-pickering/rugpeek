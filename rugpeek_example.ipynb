{
 "cells": [
  {
   "cell_type": "code",
   "execution_count": 1,
   "id": "fae215b3-58c4-4ac9-ac31-5f749a3d0908",
   "metadata": {},
   "outputs": [],
   "source": [
    "%load_ext autoreload \n",
    "#allows you to reload this module without having to restart kernel\n",
    "%aimport rugpeek_functions \n",
    "import matplotlib.pyplot as plt\n",
    "import numpy as np\n",
    "import lmfit as lf\n",
    "import matplotlib as mpl\n",
    "import sys"
   ]
  },
  {
   "cell_type": "markdown",
   "id": "1a198cbd",
   "metadata": {},
   "source": [
    "Define some data filenames to read in"
   ]
  },
  {
   "cell_type": "code",
   "execution_count": 2,
   "id": "4ec39f2c-c47d-4017-861d-d93c4118bed2",
   "metadata": {},
   "outputs": [],
   "source": [
    "data_file_ferric_soret_shg0 = \"../data/aarhus_TA_jan24/2024-01-12/FerricMb_80uM_409nm_SHG_10kHz_TA_1_matrix\"\n",
    "data_file_ferric_soret_shg1 = \"../data/aarhus_TA_jan24/2024-01-12/FerricMb_80uM_409nm_SHG_10kHz_TA_2_matrix\"\n",
    "data_file_ferric_soret_shg2 = \"../data/aarhus_TA_jan24/2024-01-12/FerricMb_80uM_409nm_SHG_10kHz_TA_3_matrix\"\n",
    "\n",
    "data_file_ferric_soret_fun0 = \"../data/aarhus_TA_jan24/2024-01-12/FerricMb_80uM_409nm_FUN_10kHz_TA_1_matrix\"\n",
    "data_file_ferric_soret_fun1 = \"../data/aarhus_TA_jan24/2024-01-12/FerricMb_80uM_409nm_FUN_10kHz_TA_2_matrix\"\n",
    "data_file_ferric_soret_fun2 = \"../data/aarhus_TA_jan24/2024-01-12/FerricMb_80uM_409nm_FUN_10kHz_TA_3_matrix\"\n",
    "\n",
    "solvent_ferric_soret_shg = \"../data/aarhus_TA_jan24/2024-01-16/milliQ_409nm_SHG_chirp_1_matrix\"\n",
    "solvent_ferric_soret_fun = \"../data/aarhus_TA_jan24/2024-01-16/milliQ_409nm_FUN_chirp_1_matrix\""
   ]
  },
  {
   "cell_type": "markdown",
   "id": "67c21239",
   "metadata": {},
   "source": [
    "Load them as instances of the Rug class - here wrapped within an average function in case you want to average more than one (commented out in example)"
   ]
  },
  {
   "cell_type": "code",
   "execution_count": 6,
   "id": "fd63a2d7-d046-4238-b65d-32c32ed45388",
   "metadata": {},
   "outputs": [],
   "source": [
    "%autoreload 1\n",
    "rp = rugpeek_functions\n",
    "#JDP create an instance of the Rug class\n",
    "ferric_soret_shg = rp.RugTools.average_rugs([rp.Rug(data_file_ferric_soret_shg0, \".dat\")])\n",
    "                                            # rp.Rug(data_file_ferric_soret_shg1, \".dat\"),\n",
    "                                            # rp.Rug(data_file_ferric_soret_shg2, \".dat\")])\n",
    "\n",
    "ferric_soret_fun = rp.RugTools.average_rugs([rp.Rug(data_file_ferric_soret_fun0, \".dat\")])\n",
    "                                            # rp.Rug(data_file_ferric_soret_fun1, \".dat\"),\n",
    "                                            # rp.Rug(data_file_ferric_soret_fun2, \".dat\")])\n",
    "\n",
    "solvent_soret_shg = rp.Rug(solvent_ferric_soret_shg, \".dat\")\n",
    "solvent_soret_fun = rp.Rug(solvent_ferric_soret_fun, \".dat\")\n"
   ]
  },
  {
   "cell_type": "markdown",
   "id": "fb1a022a",
   "metadata": {},
   "source": [
    "Apply dispersion corrections. Get them from the solvent only file and then apply the coefficients to the actual data."
   ]
  },
  {
   "cell_type": "code",
   "execution_count": 7,
   "id": "57258110-76c5-417e-8ece-b866a468aeb2",
   "metadata": {},
   "outputs": [
    {
     "name": "stdout",
     "output_type": "stream",
     "text": [
      "Offset corrected\n",
      "Offset corrected\n"
     ]
    }
   ],
   "source": [
    "%matplotlib qt5\n",
    "\n",
    "solvent_soret_shg.get_dispersion_correction_eye(degree=2)\n",
    "coefs_soret_shg = solvent_soret_shg.dispersion_coefs\n",
    "solvent_soret_shg.apply_dispersion_correction(coefs=coefs_soret_shg)\n",
    "ferric_soret_shg.apply_dispersion_correction(coefs=coefs_soret_shg)\n",
    "ferric_soret_shg.offset(coef=coefs_soret_shg[-1])\n",
    "\n",
    "\n",
    "solvent_soret_fun.get_dispersion_correction_eye(degree=2)\n",
    "coefs_soret_fun = solvent_soret_fun.dispersion_coefs\n",
    "ferric_soret_fun.apply_dispersion_correction(coefs=coefs_soret_fun)\n",
    "solvent_soret_fun.apply_dispersion_correction(coefs=coefs_soret_fun)\n",
    "ferric_soret_fun.offset(coef=coefs_soret_fun[-1])\n",
    "\n",
    "plt.close('all')\n"
   ]
  },
  {
   "cell_type": "markdown",
   "id": "bdd01791",
   "metadata": {},
   "source": [
    "Deep copy the corrected rugs so that we can easily get back to them if we break something later. Then stitch together the SHG and FUN regions into one big dataset."
   ]
  },
  {
   "cell_type": "code",
   "execution_count": 9,
   "id": "4a19236b-9247-4692-90bf-92fcb880fe6b",
   "metadata": {},
   "outputs": [],
   "source": [
    "import copy\n",
    "ferric_soret_shg_mod = copy.deepcopy(ferric_soret_shg)\n",
    "ferric_soret_fun_mod = copy.deepcopy(ferric_soret_fun)\n",
    "solvent_soret_shg_mod = copy.deepcopy(solvent_soret_shg)\n",
    "solvent_soret_fun_mod = copy.deepcopy(solvent_soret_fun)\n",
    "\n",
    "ferric_soret_rugs = [ferric_soret_shg_mod, ferric_soret_fun_mod]\n",
    "ferric_soret_total = rp.RugTools.combine_rugs_wavelengths(ferric_soret_rugs, \"ferric_soret_combined_matrix\")\n",
    "\n",
    "solvent_soret_rugs = [solvent_soret_shg_mod, solvent_soret_fun_mod]\n",
    "solvent_soret_total = rp.RugTools.combine_rugs_wavelengths(solvent_soret_rugs, \"solvent_soret_combined_matrix\")\n"
   ]
  },
  {
   "cell_type": "markdown",
   "id": "9f122d38",
   "metadata": {},
   "source": [
    "Cut out wavelengths that are contaminated by scattering/pump light etc. Best to background subtract after you've done this."
   ]
  },
  {
   "cell_type": "code",
   "execution_count": 13,
   "id": "ad8519d2-9411-42d4-a7a0-fdde3f141a7b",
   "metadata": {},
   "outputs": [
    {
     "name": "stdout",
     "output_type": "stream",
     "text": [
      "(239, 453) (239, 453)\n"
     ]
    }
   ],
   "source": [
    "%autoreload 1\n",
    "ferric_soret_total.cut_wavelengths([(395,430), (512,518)], fill=0)\n",
    "\n",
    "ferric_soret_total.background_subtract()\n",
    "ferric_soret_total.peek()\n",
    "\n",
    "#JDP uncomment if you want to undo operations on the rug.\n",
    "#ferric_soret_total.reset_matrix()"
   ]
  },
  {
   "cell_type": "markdown",
   "id": "4de8e114",
   "metadata": {},
   "source": [
    "Compute and plot an SVD - see functions for parameters."
   ]
  },
  {
   "cell_type": "code",
   "execution_count": 30,
   "id": "ea726877-67fd-4458-a2d3-6125f7c6c40e",
   "metadata": {},
   "outputs": [
    {
     "name": "stdout",
     "output_type": "stream",
     "text": [
      "Taking threshold for singular value significance as 100x larger than smallest singular value (37.139299489).\n",
      "Found 2 significant singular values\n",
      "90.36 % of data variance described by component 1.\n",
      "4.58 % of data variance described by component 2.\n",
      "Overall, 94.94 % of data variance described by the first 2 components.\n",
      "Leaving 5.06 % of data variance described by the the remaining 237 components which are below threshold (roughly 0.02 % per component).\n"
     ]
    }
   ],
   "source": [
    "%autoreload 1\n",
    "plt.close('all')\n",
    "\n",
    "#JDP uncomment if you want to limit stuff\n",
    "#ferric_soret_total.limit_times(tmin=10, tmax=1000)\n",
    "#ferric_soret_total.limit_wavelengths(wlmin=413, wlmax=700)\n",
    "                                                       \n",
    "ferric_soret_total.compute_SVD(threshold=100)\n",
    "\n",
    "ferric_soret_total.plot_SVD()\n"
   ]
  },
  {
   "cell_type": "markdown",
   "id": "e70ff340",
   "metadata": {},
   "source": [
    "Small helper functions that let you get traces and spectra at given times/wavelengths - example below."
   ]
  },
  {
   "cell_type": "code",
   "execution_count": 44,
   "id": "63801bb0-f575-4017-b1dc-855a7c896aba",
   "metadata": {},
   "outputs": [],
   "source": [
    "\n",
    "wavelengths = [460, 455, 450, 445, 440, 435, 390, 385, 380, 375, 370]\n",
    "decays = ferric_soret_total.get_time_trace(wavelengths, plot=True)\n",
    "\n",
    "times = [-1, 0, 1, 10, 100]\n",
    "spectra = ferric_soret_total.get_wavelength_trace(times, plot=True)\n",
    "\n"
   ]
  },
  {
   "cell_type": "code",
   "execution_count": 18,
   "id": "07826fb6-13b8-4e34-96bc-9da946bbbba8",
   "metadata": {},
   "outputs": [
    {
     "name": "stdout",
     "output_type": "stream",
     "text": [
      "Fitting component 1 of the SVD.\n",
      "Fitting to 2 exponential decays.\n",
      "Fitted IRF as centered at 0.01667708522414615 ps and with 0.08500084165781328 ps width.\n",
      "Lifetime is: 3.9432 +/- 0.0002 ps. Corresponding amplitude is 2.2301.\n",
      "Lifetime is: 0.6142 +/- 0.1242 ps. Corresponding amplitude is 0.3559.\n",
      "Fitting component 2 of the SVD.\n",
      "Fitting to 2 exponential decays.\n",
      "Fitted IRF as centered at 0.04473723878728863 ps and with 0.09181105901512855 ps width.\n",
      "Lifetime is: 0.3463 +/- 0.5835 ps. Corresponding amplitude is 0.7363.\n",
      "Lifetime is: 5.7126 +/- 0.0002 ps. Corresponding amplitude is -2.5391.\n"
     ]
    }
   ],
   "source": [
    "#### Fitting the SVD components\n",
    "\n",
    "%autoreload 2\n",
    "t = ferric_soret_total.times\n",
    "\n",
    "#plt.close('all')\n",
    "def normalise(x):\n",
    "    a = (x-np.min(x))/np.max(x)\n",
    "    return a\n",
    "\n",
    "def normalise_scale(x):\n",
    "    return x/np.max(x)\n",
    "\n",
    "def inverse_uncertainty(x, s):\n",
    "    s_inv = s / (x**2)\n",
    "    return s_inv\n",
    "    \n",
    "traces = ferric_soret_total.relevant_kinetics[0:3]\n",
    "\n",
    "ncpts = 2\n",
    "\n",
    "IRF_center_val = 0\n",
    "IRF_center_min = -0.3\n",
    "IRF_center_max = 0.3\n",
    "IRF_center= [IRF_center_val, IRF_center_min, IRF_center_max]\n",
    "\n",
    "IRF_sigma_val = 0.4\n",
    "IRF_sigma_min = 0\n",
    "IRF_sigma_max = 0.5\n",
    "IRF_sigma= [IRF_sigma_val, IRF_sigma_min, IRF_sigma_max]\n",
    "\n",
    "decay_amplitude_center = [1, -1, 1]\n",
    "decay_amplitude_min = [-5, -5, -5]\n",
    "decay_amplitude_max = [5, 5, 5]\n",
    "\n",
    "decay_gamma_center = [1, 1, 1]\n",
    "decay_gamma_min = [1E-6, 1E-6, 1E-6]\n",
    "decay_gamma_max = [20, 20, 20]\n",
    "mods = []\n",
    "\n",
    "for idx, trace in enumerate(traces):\n",
    "    y = normalise_scale(trace)\n",
    "    print(f'Fitting component {idx+1} of the SVD.')\n",
    "    print(f'Fitting to {ncpts} exponential decays.')\n",
    "    \n",
    "    for n in range(ncpts):\n",
    "        if n == 0:\n",
    "            mod = lf.models.ExponentialGaussianModel(prefix='p'+str(n)+'_')\n",
    "            pars = mod.make_params(center = dict(value=IRF_center[0], min=IRF_center[1], \n",
    "                                                 max=IRF_center[2], vary=True),\n",
    "                        sigma = dict(value=IRF_sigma[0], min=IRF_sigma[1], \n",
    "                                     max=IRF_sigma[2], vary=True),\n",
    "                        amplitude = dict(value=decay_amplitude_center[n],min=decay_amplitude_min[n],\n",
    "                                         max=decay_amplitude_max[n], vary=True), \n",
    "                        gamma = dict(value=decay_gamma_center[n], min=decay_gamma_min[n], \n",
    "                                     max=decay_gamma_max[n], vary=True))\n",
    "            model = mod\n",
    "        else:\n",
    "            mod = lf.models.ExponentialGaussianModel(prefix='p'+str(n)+'_')\n",
    "            pars.update(mod.make_params(center = dict(expr='p0_center', vary=False),\n",
    "                        sigma = dict(expr='p0_sigma', vary=False),\n",
    "                        amplitude = dict(value=decay_amplitude_center[n],min=decay_amplitude_min[n],\n",
    "                                         max=decay_amplitude_max[n], vary=True), \n",
    "                        gamma = dict(value=decay_gamma_center[n], min=decay_gamma_min[n], \n",
    "                                     max=decay_gamma_max[n])))\n",
    "            model = model + mod\n",
    "\n",
    "\n",
    "    out = model.fit(y, pars, x=t, method='least_squares')\n",
    "    \n",
    "    plt.figure()\n",
    "    ax = out.plot_fit()\n",
    "    ax.set_xlabel('Time (ps)')\n",
    "    ax.set_ylabel(r'$\\Delta OD')\n",
    "    ax.set_xscale('linear')\n",
    "    t0 = out.params['p'+str(0)+'_center'].value\n",
    "    FWHM = out.params['p'+str(0)+'_sigma'].value\n",
    "    print(f'Fitted IRF as centered at {t0} ps and with {FWHM} ps width.')\n",
    "    for n in range(ncpts):\n",
    "        l1 = np.round(1/out.params['p'+str(n)+'_gamma'].value, 4) \n",
    "        l1_err = np.round(inverse_uncertainty(l1, out.params['p'+str(n)+'_gamma'].stderr), 4)\n",
    "        a1 = np.round(out.params['p'+str(n)+'_amplitude'].value,4)\n",
    "        print(f'Lifetime is: {l1} +/- {l1_err} ps. Corresponding amplitude is {a1}.')\n",
    "\n"
   ]
  },
  {
   "cell_type": "code",
   "execution_count": 60,
   "id": "04e43c57-6b41-428e-968d-043448ec7cdb",
   "metadata": {},
   "outputs": [
    {
     "name": "stdout",
     "output_type": "stream",
     "text": [
      "Parameter dictionary passed in is longer than expected. Ignoring everything after the 4th element.\n",
      "Lifetime 0 is: 2.4712 +/- 0.0009 ps.\n"
     ]
    }
   ],
   "source": [
    "#  paramdata needs to include all the parameters that are used to fit one dataset\n",
    "# if using inbuilt lmfit models the names need to match what is expected \n",
    "# numbers are just used to differentiate them, and are replaced with prefixes later \n",
    "\n",
    "\n",
    "# need to fix this so it checks the length of the params dictionary\n",
    "paramdata = {'center': [0, -0.3, 0.3, True],\n",
    "             'sigma': [0.4, 0.0, 0.5, True],\n",
    "             'gamma': [1, 1E-6, 20, True],\n",
    "             'amplitude': [0, -5, 5, True],\n",
    "\n",
    "             'center2': [0, -0.3, 0.3, True],\n",
    "             'sigma2': [0.4, 0.0, 0.5, True],\n",
    "             'gamma2': [1, 1E-6, 20, True],\n",
    "             'amplitude2': [0, -5, 5, True],\n",
    "\n",
    "             'center3': [0, -0.3, 0.3, True],\n",
    "             'sigma3': [0.4, 0.0, 0.5, True],\n",
    "             'gamma3': [1, 1E-6, 30, True],\n",
    "             'amplitude3': [0, -5, 5, True]}\n",
    "           #  'c': [0, 0, 2, False]\n",
    "           # }\n",
    "\n",
    "\n",
    "#need a way to check that the number of suppplied params matches expected components\n",
    "\n",
    "#these are bits that are common to each component and to each dataset\n",
    "fixed_vars = ['center','sigma']\n",
    "\n",
    "#these are bits that apply to one whole dataset, but vary across different datasets ('offsets')\n",
    "offset_vars = [] \n",
    "\n",
    "#these are bits that vary across components, but are commmon to each dataset\n",
    "fixed_data_vars = ['gamma'] \n",
    "\n",
    "# wavelengths of time slices to fit to\n",
    "wavelengths = [455, 450, 445, 440, 435, 390, 385, 380]\n",
    "traces = np.array(ferric_soret_total.get_time_trace(wavelengths))\n",
    "t = ferric_soret_total.times\n",
    "ncpts = 1\n",
    "vars_per_cpt = 4\n",
    "\n",
    "#call the global fitter to fit to a sum of exponential gaussians\n",
    "out = rp.RugFits.global_fitter(t, traces, paramdata, None, None, ncpts=ncpts, vars_per_cpt=vars_per_cpt, \n",
    "                    prefixdata='d', prefixcpt='c', model=lf.models.ExponentialGaussianModel,\n",
    "                    method='leastsq', fixed_vars=fixed_vars, offset_vars=offset_vars, fixed_data_vars=fixed_data_vars)\n",
    "\n",
    "#plot the report. make print true for details\n",
    "rp.RugFits.plot_fit_result(out, t, traces, wavelengths, ncpts, print_report=False)"
   ]
  },
  {
   "cell_type": "code",
   "execution_count": 55,
   "id": "144d0087",
   "metadata": {},
   "outputs": [
    {
     "data": {
      "text/plain": [
       "12"
      ]
     },
     "execution_count": 55,
     "metadata": {},
     "output_type": "execute_result"
    }
   ],
   "source": [
    "len(paramdata)"
   ]
  },
  {
   "cell_type": "code",
   "execution_count": 99,
   "id": "9054d3d7-5b36-482a-996e-ef1c2be0920f",
   "metadata": {},
   "outputs": [
    {
     "name": "stdout",
     "output_type": "stream",
     "text": [
      "Lifetime 0 is: 3.5652 +/- 0 ps.\n",
      "Lifetime 1 is: 0.6741 +/- 0 ps.\n",
      "Lifetime 2 is: 0.0336 +/- 0 ps.\n",
      "[[Fit Statistics]]\n",
      "    # fitting method   = leastsq\n",
      "    # function evals   = 60000\n",
      "    # data points      = 1912\n",
      "    # variables        = 29\n",
      "    chi-square         = 1.38019873\n",
      "    reduced chi-square = 7.3298e-04\n",
      "    Akaike info crit   = -13772.7916\n",
      "    Bayesian info crit = -13611.6703\n",
      "##  Warning: uncertainties could not be estimated:\n",
      "    d5c0_amplitude:  at boundary\n",
      "[[Variables]]\n",
      "    d0c0_center:     0.02470574 (init = 0)\n",
      "    d0c0_sigma:      0.08825032 (init = 0.4)\n",
      "    d0c0_gamma:      0.28048623 (init = 1)\n",
      "    d0c0_amplitude:  1.13954752 (init = 0)\n",
      "    d0c1_center:     0.02470574 == 'd0c0_center'\n",
      "    d0c1_sigma:      0.08825032 == 'd0c0_sigma'\n",
      "    d0c1_gamma:      1.48337907 (init = 1)\n",
      "    d0c1_amplitude:  0.32631057 (init = 0)\n",
      "    d0c2_center:     0.02470574 == 'd0c0_center'\n",
      "    d0c2_sigma:      0.08825032 == 'd0c0_sigma'\n",
      "    d0c2_gamma:      29.7397161 (init = 1)\n",
      "    d0c2_amplitude:  0.12560607 (init = 0)\n",
      "    d1c0_center:     0.02470574 == 'd0c0_center'\n",
      "    d1c0_sigma:      0.08825032 == 'd0c0_sigma'\n",
      "    d1c0_gamma:      0.28048623 == 'd0c0_gamma'\n",
      "    d1c0_amplitude:  0.37075925 (init = 0)\n",
      "    d1c1_center:     0.02470574 == 'd0c0_center'\n",
      "    d1c1_sigma:      0.08825032 == 'd0c0_sigma'\n",
      "    d1c1_gamma:      1.48337907 == 'd0c1_gamma'\n",
      "    d1c1_amplitude: -0.03305443 (init = 0)\n",
      "    d1c2_center:     0.02470574 == 'd0c0_center'\n",
      "    d1c2_sigma:      0.08825032 == 'd0c0_sigma'\n",
      "    d1c2_gamma:      29.7397161 == 'd0c2_gamma'\n",
      "    d1c2_amplitude: -0.02277661 (init = 0)\n",
      "    d2c0_center:     0.02470574 == 'd0c0_center'\n",
      "    d2c0_sigma:      0.08825032 == 'd0c0_sigma'\n",
      "    d2c0_gamma:      0.28048623 == 'd0c0_gamma'\n",
      "    d2c0_amplitude:  0.53829133 (init = 0)\n",
      "    d2c1_center:     0.02470574 == 'd0c0_center'\n",
      "    d2c1_sigma:      0.08825032 == 'd0c0_sigma'\n",
      "    d2c1_gamma:      1.48337907 == 'd0c1_gamma'\n",
      "    d2c1_amplitude: -0.05522326 (init = 0)\n",
      "    d2c2_center:     0.02470574 == 'd0c0_center'\n",
      "    d2c2_sigma:      0.08825032 == 'd0c0_sigma'\n",
      "    d2c2_gamma:      29.7397161 == 'd0c2_gamma'\n",
      "    d2c2_amplitude: -0.02736013 (init = 0)\n",
      "    d3c0_center:     0.02470574 == 'd0c0_center'\n",
      "    d3c0_sigma:      0.08825032 == 'd0c0_sigma'\n",
      "    d3c0_gamma:      0.28048623 == 'd0c0_gamma'\n",
      "    d3c0_amplitude:  0.87974189 (init = 0)\n",
      "    d3c1_center:     0.02470574 == 'd0c0_center'\n",
      "    d3c1_sigma:      0.08825032 == 'd0c0_sigma'\n",
      "    d3c1_gamma:      1.48337907 == 'd0c1_gamma'\n",
      "    d3c1_amplitude: -0.10269302 (init = 0)\n",
      "    d3c2_center:     0.02470574 == 'd0c0_center'\n",
      "    d3c2_sigma:      0.08825032 == 'd0c0_sigma'\n",
      "    d3c2_gamma:      29.7397161 == 'd0c2_gamma'\n",
      "    d3c2_amplitude: -0.03867451 (init = 0)\n",
      "    d4c0_center:     0.02470574 == 'd0c0_center'\n",
      "    d4c0_sigma:      0.08825032 == 'd0c0_sigma'\n",
      "    d4c0_gamma:      0.28048623 == 'd0c0_gamma'\n",
      "    d4c0_amplitude:  1.14261525 (init = 0)\n",
      "    d4c1_center:     0.02470574 == 'd0c0_center'\n",
      "    d4c1_sigma:      0.08825032 == 'd0c0_sigma'\n",
      "    d4c1_gamma:      1.48337907 == 'd0c1_gamma'\n",
      "    d4c1_amplitude: -0.21766191 (init = 0)\n",
      "    d4c2_center:     0.02470574 == 'd0c0_center'\n",
      "    d4c2_sigma:      0.08825032 == 'd0c0_sigma'\n",
      "    d4c2_gamma:      29.7397161 == 'd0c2_gamma'\n",
      "    d4c2_amplitude: -0.04612865 (init = 0)\n",
      "    d5c0_center:     0.02470574 == 'd0c0_center'\n",
      "    d5c0_sigma:      0.08825032 == 'd0c0_sigma'\n",
      "    d5c0_gamma:      0.28048623 == 'd0c0_gamma'\n",
      "    d5c0_amplitude: -4.99999935 (init = 0)\n",
      "    d5c1_center:     0.02470574 == 'd0c0_center'\n",
      "    d5c1_sigma:      0.08825032 == 'd0c0_sigma'\n",
      "    d5c1_gamma:      1.48337907 == 'd0c1_gamma'\n",
      "    d5c1_amplitude: -0.52776634 (init = 0)\n",
      "    d5c2_center:     0.02470574 == 'd0c0_center'\n",
      "    d5c2_sigma:      0.08825032 == 'd0c0_sigma'\n",
      "    d5c2_gamma:      29.7397161 == 'd0c2_gamma'\n",
      "    d5c2_amplitude:  0.01493550 (init = 0)\n",
      "    d6c0_center:     0.02470574 == 'd0c0_center'\n",
      "    d6c0_sigma:      0.08825032 == 'd0c0_sigma'\n",
      "    d6c0_gamma:      0.28048623 == 'd0c0_gamma'\n",
      "    d6c0_amplitude: -0.52755112 (init = 0)\n",
      "    d6c1_center:     0.02470574 == 'd0c0_center'\n",
      "    d6c1_sigma:      0.08825032 == 'd0c0_sigma'\n",
      "    d6c1_gamma:      1.48337907 == 'd0c1_gamma'\n",
      "    d6c1_amplitude:  0.12013947 (init = 0)\n",
      "    d6c2_center:     0.02470574 == 'd0c0_center'\n",
      "    d6c2_sigma:      0.08825032 == 'd0c0_sigma'\n",
      "    d6c2_gamma:      29.7397161 == 'd0c2_gamma'\n",
      "    d6c2_amplitude:  0.02372710 (init = 0)\n",
      "    d7c0_center:     0.02470574 == 'd0c0_center'\n",
      "    d7c0_sigma:      0.08825032 == 'd0c0_sigma'\n",
      "    d7c0_gamma:      0.28048623 == 'd0c0_gamma'\n",
      "    d7c0_amplitude: -0.05388717 (init = 0)\n",
      "    d7c1_center:     0.02470574 == 'd0c0_center'\n",
      "    d7c1_sigma:      0.08825032 == 'd0c0_sigma'\n",
      "    d7c1_gamma:      1.48337907 == 'd0c1_gamma'\n",
      "    d7c1_amplitude:  0.04332929 (init = 0)\n",
      "    d7c2_center:     0.02470574 == 'd0c0_center'\n",
      "    d7c2_sigma:      0.08825032 == 'd0c0_sigma'\n",
      "    d7c2_gamma:      29.7397161 == 'd0c2_gamma'\n",
      "    d7c2_amplitude: -0.01352741 (init = 0)\n"
     ]
    }
   ],
   "source": [
    "for i, _ in enumerate(traces):\n",
    "    resid = out.residual.reshape(len(traces), len(traces[0]))\n",
    "    fitdata = traces[i] - resid[i]\n",
    "    plt.figure()\n",
    "    plt.plot(t, fitdata, color='C0')\n",
    "    plt.scatter(t, traces[i], color='C1')\n",
    "    plt.xlim(-1,30)\n",
    "    if i == 0:\n",
    "        for n in range(ncpts):\n",
    "            l1 = np.round(1/out.params['d'+str(i)+'c'+str(n)+'_gamma'].value, 4) \n",
    "            l1_err = 0#np.round(inverse_uncertainty(l1, out.params['d'+str(i)+'c'+str(n)+'_gamma'].stderr), 4)\n",
    "            print(f'Lifetime {n} is: {l1} +/- {l1_err} ps.')\n",
    "\n",
    "print(lf.fit_report(out))"
   ]
  },
  {
   "cell_type": "code",
   "execution_count": 25,
   "id": "6d041d25-b178-4b0a-985f-dced54adea7a",
   "metadata": {},
   "outputs": [
    {
     "data": {
      "text/plain": [
       "<matplotlib.legend.Legend at 0x15a8f0fe0>"
      ]
     },
     "execution_count": 25,
     "metadata": {},
     "output_type": "execute_result"
    }
   ],
   "source": [
    "\n",
    "\n",
    "DAS1 = 2.1752*ferric_soret_total.singular_values[0]*ferric_soret_total.relevant_spectra[0] \\\n",
    "        -3.108*ferric_soret_total.singular_values[1]*ferric_soret_total.relevant_spectra[1]\n",
    "\n",
    "DAS2 = 0.4311*ferric_soret_total.singular_values[0]*ferric_soret_total.relevant_spectra[0] \\\n",
    "     + 1.0255*ferric_soret_total.singular_values[1]*ferric_soret_total.relevant_spectra[1]\n",
    "\n",
    "plt.figure()\n",
    "plt.plot(ferric_soret_total.wavelengths, DAS1, label='DAS, 4.5ps cpt')\n",
    "plt.plot(ferric_soret_total.wavelengths, DAS2, label='DAS, 0.5ps cpt')\n",
    "plt.legend()"
   ]
  },
  {
   "cell_type": "code",
   "execution_count": null,
   "id": "8e0e4371-68d1-41c6-99db-659d86b6e117",
   "metadata": {},
   "outputs": [],
   "source": [
    "ferric_soret_total_cut = copy.deepcopy(ferric_soret_total)\n",
    "\n",
    "#ferric_soret_total_cut.cut_wavelengths(400,415)\n",
    "ferric_soret_total_cut.cut_wavelengths(510, 520)\n"
   ]
  },
  {
   "cell_type": "code",
   "execution_count": 99,
   "id": "1ba5b5e3-2787-47dc-af8c-14479ba86904",
   "metadata": {},
   "outputs": [],
   "source": [
    "ferric_soret_total.peek()"
   ]
  },
  {
   "cell_type": "code",
   "execution_count": null,
   "id": "afb9363d-8577-4f52-9446-a1bed1cf2609",
   "metadata": {},
   "outputs": [],
   "source": [
    "times = [-0.1,0.1, 0.5, 1., 5, 5, 50]\n",
    "traces = []\n",
    "plt.close('all')\n",
    "fig = plt.figure()\n",
    "ax = fig.gca()\n",
    "colours = np.flipud(plt.cm.viridis(np.linspace(0, 1, len(times))))\n",
    "\n",
    "insax = ax.inset_axes([0.38, 0.5, 0.4, 0.4])\n",
    "\n",
    "for idx, time in enumerate(times):\n",
    "    ax.plot(ferric_soret_total_cut.wavelengths, \n",
    "             ferric_soret_total_cut.get_wavelength_trace(time), label=str(time)+'ps', color=colours[idx])\n",
    "\n",
    "    insax.plot(ferric_soret_total_cut.wavelengths, \n",
    "             ferric_soret_total_cut.get_wavelength_trace(time), label=str(time)+'ps', color=colours[idx])\n",
    "\n",
    "\n",
    "insax.set_xlim(520, 640)\n",
    "insax.set_ylim(-0.5,1.5)\n",
    "insax.set_yticks([0, 1])\n",
    "insax.set_xlabel('Wavelength (nm)')\n",
    "insax.set_ylabel(r'$\\Delta OD$')\n",
    "insax.set_xticks([520, 580, 640])\n",
    "ax.set_xlabel('Wavelength (nm)')\n",
    "ax.set_ylabel(r'$\\Delta OD$')\n",
    "ax.set_xlim(350,700)\n",
    "ax.set_ylim(-3,12)\n",
    "ax.legend()\n",
    "\n"
   ]
  },
  {
   "cell_type": "code",
   "execution_count": null,
   "id": "a9d8af79-b3f9-43f3-ae57-fe995f36e0a9",
   "metadata": {},
   "outputs": [],
   "source": [
    "ferric_soret_total.compute_SVD()"
   ]
  },
  {
   "cell_type": "code",
   "execution_count": null,
   "id": "faa62776-49f3-402c-8471-d8089fd86605",
   "metadata": {},
   "outputs": [],
   "source": [
    "%autoreload 1\n",
    "plt.close('all')\n",
    "plt.figure()\n",
    "sing = ferric_soret_total.singular_values\n",
    "for idx, spectrum in enumerate(ferric_soret_total.principal_spectra[0:3]):\n",
    "    rp.RugTools.cut_wavelengths_spectrum(ferric_soret_total.wavelengths, spectrum, 510, 520)\n",
    "    #rp.RugTools.cut_wavelengths_spectrum(ferric_soret_total.wavelengths, spectrum, 405, 415)\n",
    "    plt.plot(ferric_soret_total.wavelengths, spectrum, label='Component '+str(idx+1))\n",
    "\n",
    "plt.legend()\n",
    "plt.xlabel('Wavelength (nm)')\n",
    "plt.ylabel(r'$\\Delta OD$')\n",
    "plt.xlim(350, 700)"
   ]
  },
  {
   "cell_type": "code",
   "execution_count": null,
   "id": "92bab632-e1e8-4418-9a36-34e242ab913d",
   "metadata": {},
   "outputs": [],
   "source": [
    "plt.figure()\n",
    "plt.plot(ferric_soret_total.times, ferric_soret_total.get_time_trace(410))\n",
    "plt.plot(solvent_soret_shg.times, solvent_soret_shg.get_time_trace(410))\n"
   ]
  },
  {
   "cell_type": "code",
   "execution_count": null,
   "id": "271489f8-046a-4ae2-8d5e-9ccf8558262f",
   "metadata": {},
   "outputs": [],
   "source": [
    "ferric_soret_total.peek(min_max=(-10, 1))"
   ]
  }
 ],
 "metadata": {
  "kernelspec": {
   "display_name": "Python 3 (ipykernel)",
   "language": "python",
   "name": "python3"
  },
  "language_info": {
   "codemirror_mode": {
    "name": "ipython",
    "version": 3
   },
   "file_extension": ".py",
   "mimetype": "text/x-python",
   "name": "python",
   "nbconvert_exporter": "python",
   "pygments_lexer": "ipython3",
   "version": "3.12.4"
  }
 },
 "nbformat": 4,
 "nbformat_minor": 5
}
