{
 "cells": [
  {
   "cell_type": "code",
   "execution_count": 2,
   "id": "1e4594ad-9951-4c54-a4cd-2aa37b8281db",
   "metadata": {},
   "outputs": [],
   "source": [
    "%matplotlib qt5\n",
    "import rugpeek_funcs as rp \n",
    "import matplotlib.pyplot as plt\n",
    "import numpy as np\n",
    "import lmfit as lf\n",
    "import matplotlib as mpl\n",
    "import sys\n",
    "from matplotlib.gridspec import GridSpec\n",
    "from matplotlib.widgets import Slider, Button, Cursor\n",
    "import matplotlib.colors as colors\n",
    "import numpy.polynomial.polynomial as pn\n",
    "import mplcursors\n",
    "\n",
    "data_file = \"./example_data/Ferric-Mb_80uM_409nm_SHG_TA_2_matrix\"\n",
    "data = rp.Rug(data_file, \".dat\")\n",
    "\n",
    "data.peekexplore()"
   ]
  }
 ],
 "metadata": {
  "kernelspec": {
   "display_name": "Python 3 (ipykernel)",
   "language": "python",
   "name": "python3"
  },
  "language_info": {
   "codemirror_mode": {
    "name": "ipython",
    "version": 3
   },
   "file_extension": ".py",
   "mimetype": "text/x-python",
   "name": "python",
   "nbconvert_exporter": "python",
   "pygments_lexer": "ipython3",
   "version": "3.11.5"
  }
 },
 "nbformat": 4,
 "nbformat_minor": 5
}
