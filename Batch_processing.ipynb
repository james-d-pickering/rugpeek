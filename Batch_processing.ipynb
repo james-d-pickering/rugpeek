{
 "cells": [
  {
   "cell_type": "code",
   "execution_count": 1,
   "id": "a7cfaac0",
   "metadata": {
    "scrolled": false
   },
   "outputs": [
    {
     "name": "stdout",
     "output_type": "stream",
     "text": [
      "\n",
      "Len of the newbatch: 23\n",
      "\n",
      "Remove ['Ferric-Mb_80uM_409nm_FUN_TA_1_matrix', 'Ferric-Mb_80uM_409nm_FUN_TA_2_matrix', 'Ferric-Mb_80uM_500nm_FUN_TA_1_matrix', 'Ferric-Mb_80uM_630nm_FUN_TA_1_matrix', 'Ferric-Mb_80uM_500nm_FUN_TA_2_matrix', 'FerricMb_80uM_409nm_FUN_10kHz_TA_1_matrix', 'FerricMb_80uM_409nm_FUN_10kHz_TA_2_matrix', 'FerricMb_80uM_409nm_FUN_10kHz_TA_3_matrix', 'FerricMb_80uM_409nm_FUN_10kHz_TA_4_matrix']\n",
      "['milliQ_630nm_FUN_chirp_1_matrix']\n",
      "['milliQ_304nm_SHG_chirp_1_matrix']\n",
      "\n",
      "Removed stuff: [['milliQ_500nm_FUN_chirp_1_matrix', 'Ferric-Mb_80uM_500nm_FUN_TA_2_matrix'], ['milliQ_409nm_FUN_chirp_1_matrix', 'Ferric-Mb_80uM_409nm_FUN_TA_2_matrix', 'FerricMb_80uM_409nm_FUN_10kHz_TA_2_matrix', 'FerricMb_80uM_409nm_FUN_10kHz_TA_4_matrix', 'FerricMb_80uM_409nm_FUN_10kHz_TA_5_matrix'], ['milliQ_556nm_FUN_chirp_1_matrix', 'Ferrous-Mb_100uM_556nm_FUN_TA_1_matrix', 'Ferrous-Mb_100uM_556nm_FUN_TA_2_matrix'], ['milliQ_435nm_FUN_chirp_1_matrix', 'Ferrous-Mb_100uM_435nm_FUN_TA_1_matrix', 'Ferrous-Mb_100uM_435nm_FUN_TA_2_matrix'], ['milliQ_387nm_FUN_chirp_1_matrix', 'Hemin_noligand_387nm_FUN_TA_1_matrix', 'Hemin_noligand_387nm_FUN_TA_2_matrix'], ['milliQ_581nm_FUN_chirp_1_matrix', 'OxyMb_100uM_581nm_FUN_TA_1_matrix', 'OxyMb_100uM_581nm_FUN_TA_2_matrix'], ['milliQ_542nm_FUN_chirp_1_matrix', 'OxyMb_100uM_542nm_FUN_TA_1_matrix', 'OxyMb_100uM_542nm_FUN_TA_2_matrix', 'OxyMb_100uM_542nm_FUN_TA_3_matrix', 'OxyMb_100uM_542nm_FUN_TA_lissajous_matrix'], ['milliQ_416nm_FUN_chirp_1_matrix', 'OxyMb_100uM_416nm_FUN_TA_1_matrix', 'OxyMb_100uM_416nm_FUN_TA_1_random_matrix', 'OxyMb_80uM_416nm_FUN_TA_1_matrix', 'OxyMb_80uM_416nm_FUN_TA_2_matrix', 'OxyMb_80uM_416nm_FUN_TA_3_matrix'], ['milliQ_400nm_FUN_chirp_1_matrix', 'Haem-CYS_400nm_FUN_10kHz_1_matrix', 'Haem-CYS_400nm_FUN_2_matrix', 'Haem-CYS_400nm_FUN_3_matrix'], ['milliQ_630nm_SHG_chirp_1_matrix', 'Ferric-Mb_80uM_630nm_SHG_TA_1_matrix'], ['milliQ_500nm_SHG_chirp_1_matrix', 'Ferric-Mb_80uM_500nm_SHG_TA_1_matrix', 'Ferric-Mb_80uM_500nm_SHG_TA_2_matrix', 'FerricMb_80uM_500nm_SHG_10kHz_TA_1_matrix', 'FerricMb_80uM_500nm_SHG_10kHz_TA_2_matrix', 'FerricMb_80uM_500nm_SHG_10kHz_TA_3_matrix'], ['milliQ_409nm_SHG_chirp_1_matrix', 'Ferric-Mb_80uM_409nm_SHG_TA_1_matrix', 'Ferric-Mb_80uM_409nm_SHG_TA_2_matrix', 'FerricMb_80uM_409nm_SHG_10kHz_TA_1_matrix', 'FerricMb_80uM_409nm_SHG_10kHz_TA_2_matrix', 'FerricMb_80uM_409nm_SHG_10kHz_TA_3_matrix'], ['milliQ_556nm_SHG_chirp_1_matrix', 'Ferrous-Mb_100uM_556nm_SHG_TA_1_matrix', 'Ferrous-Mb_100uM_556nm_SHG_TA_2_matrix', 'Ferrous-Mb_100uM_556nm_SHG_TA_3_matrix'], ['milliQ_435nm_SHG_chirp_1_matrix', 'Ferrous-Mb_100uM_435nm_SHG_TA_1_matrix'], ['milliQ_387nm_SHG_chirp_1_matrix', 'Hemin_noligand_387nm_SHG_TA_1_matrix'], ['milliQ_350nm_SHG_chirp_1_matrix', 'Hemin_noligand_350nm_SHG_TA_1_matrix', 'Hemin_noligand_350nm_SHG_TA_2_matrix', 'Hemin_noligand_350nm_SHG_TA_2_matrix'], ['milliQ_416nm_SHG_chirp_1_matrix', 'OxyMb_80uM_416nm_SHG_TA_1_matrix', 'OxyMb_80uM_416nm_SHG_TA_2_matrix', 'OxyMb_80uM_416nm_SHG_TA_3_matrix', 'OxyMb_80uM_416nm_SHG_TA_4_matrix'], ['milliQ_581nm_SHG_chirp_1_matrix', 'OxyMb_80uM_581nm_SHG_TA_1_matrix', 'OxyMb_80uM_581nm_SHG_TA_2_matrix', 'OxyMb_80uM_581nm_SHG_TA_3_matrix'], ['milliQ_542nm_SHG_chirp_1_matrix', 'OxyMb_80uM_542nm_SHG_TA_1_matrix', 'OxyMb_80uM_542nm_SHG_TA_2_matrix', 'OxyMb_80uM_542nm_SHG_TA_1_matrix', 'OxyMb_80uM_542nm_SHG_3nsonwards_TA_1_matrix', 'OxyMb_80uM_542nm_SHG_3nsonwards_TA_2_matrix', 'OxyMb_80uM_542nm_SHG_3nsonwards_TA_3_matrix', 'OxyMb_80uM_542nm_SHG_1kHz_TA_1_matrix', 'OxyMb_80uM_542nm_SHG_5kHz_TA_1_matrix', 'OxyMb_80uM_542nm_SHG_2kHz_TA_1_matrix'], ['milliQ_240nm_SHG_chirp_1_matrix', 'oxygenrelease_1mM_240nm_SHG_TA_1_matrix', 'oxygenrelease_1mM_240nm_SHG_TA_2_matrix', 'oxygenrelease_1mM_240nm_SHG_TA_3_matrix', 'oxygenrelease_1mM_240nm_SHG_TA_1_matrix', 'oxygenrelease_1mM_240nm_SHG_TA_2_matrix', 'oxygenrelease_1mM_240nm_SHG_TA_3_matrix', 'oxygenrelease_1mM_240nm_SHG_TA_4_matrix', 'oxygenrelease_1mM_240nm_SHG_TA_5_matrix', 'oxygenrelease_1mM_240nm_SHG_TA_6_matrix', 'oxygenrelease_1mM_240nm_SHG_TA_7_matrix', 'oxygenrelease_1mM_240nm_SHG_TA_8_matrix', 'oxygenrelease_1mM_240nm_SHG_TA_9_matrix'], ['milliQ_400nm_SHG_chirp_1_matrix', 'oxygenrelease_1mM_400nm_SHG_TA_1_matrix', 'oxygenrelease_1mM_400nm_SHG_TA_2_matrix', 'oxygenrelease_1mM_400nm_SHG_TA_3_matrix', 'oxygenrelease_1mM_400nm_SHG_TA_4_matrix', 'Haem-CYS_400nm_SHG_10Khz_1_matrix', 'Haem-CYS_400nm_SHG_10Khz_1_matrix']]\n",
      "Solvent file: milliQ_500nm_FUN_chirp_1_matrix\n",
      "Sample files: ['Ferric-Mb_80uM_500nm_FUN_TA_2_matrix']\n",
      "Missing: Concentration\n",
      "Vmin: -4.54237418\n",
      "Vmax: 2.1176274\n",
      "Vmin: -7.27444229\n",
      "Vmax: 2.26524836\n",
      "\n",
      "Taken average background\n",
      "Vmin: -3.826291406863125\n",
      "Vmax: 2.286208308589375\n",
      "Offset corrected\n",
      "Offset applied\n",
      "\u001b[1mSaved processed file of\u001b[0;0m Ferric-Mb_80uM_500nm_FUN_TA_2_matrix\n",
      "Vmin: -3.826291406863125\n",
      "Vmax: 2.286208308589375\n",
      "Solvent file: milliQ_409nm_FUN_chirp_1_matrix\n",
      "Sample files: ['Ferric-Mb_80uM_409nm_FUN_TA_2_matrix', 'FerricMb_80uM_409nm_FUN_10kHz_TA_2_matrix', 'FerricMb_80uM_409nm_FUN_10kHz_TA_4_matrix', 'FerricMb_80uM_409nm_FUN_10kHz_TA_5_matrix']\n",
      "Missing: Concentration\n",
      "Vmin: -4.42066466\n",
      "Vmax: 4.7908017\n",
      "Vmin: -5.98480741\n",
      "Vmax: 3.69972845\n",
      "\n",
      "Taken average background\n",
      "Vmin: -2.2980195177777776\n",
      "Vmax: 3.6885313077985\n",
      "Offset corrected\n",
      "Offset applied\n",
      "\u001b[1mSaved processed file of\u001b[0;0m Ferric-Mb_80uM_409nm_FUN_TA_2_matrix\n",
      "Vmin: -2.2980195177777776\n",
      "Vmax: 3.6885313077985\n",
      "Vmin: -8.40455058\n",
      "Vmax: 2.21547548\n"
     ]
    },
    {
     "ename": "IndexError",
     "evalue": "list index out of range",
     "output_type": "error",
     "traceback": [
      "\u001b[1;31m---------------------------------------------------------------------------\u001b[0m",
      "\u001b[1;31mIndexError\u001b[0m                                Traceback (most recent call last)",
      "\u001b[1;32m~\\AppData\\Local\\Temp\\ipykernel_22180\\4162508789.py\u001b[0m in \u001b[0;36m<module>\u001b[1;34m\u001b[0m\n\u001b[0;32m     16\u001b[0m \u001b[1;33m\u001b[0m\u001b[0m\n\u001b[0;32m     17\u001b[0m \u001b[1;31m#batch processing occurs and it saves two files - one as a processed.dat and processed.png\u001b[0m\u001b[1;33m\u001b[0m\u001b[1;33m\u001b[0m\u001b[0m\n\u001b[1;32m---> 18\u001b[1;33m \u001b[0mrp\u001b[0m\u001b[1;33m.\u001b[0m\u001b[0mRug\u001b[0m\u001b[1;33m.\u001b[0m\u001b[0mbatch_processing\u001b[0m\u001b[1;33m(\u001b[0m\u001b[0msortedfiles\u001b[0m\u001b[1;33m,\u001b[0m \u001b[0mbackground\u001b[0m\u001b[1;33m=\u001b[0m\u001b[1;34m'area'\u001b[0m\u001b[1;33m,\u001b[0m \u001b[0mcorrect_dispersion\u001b[0m\u001b[1;33m=\u001b[0m\u001b[1;34m'eye'\u001b[0m\u001b[1;33m)\u001b[0m\u001b[1;33m\u001b[0m\u001b[1;33m\u001b[0m\u001b[0m\n\u001b[0m\u001b[0;32m     19\u001b[0m \u001b[1;33m\u001b[0m\u001b[0m\n",
      "\u001b[1;32m~\\Summer project\\rugpeek_functions.py\u001b[0m in \u001b[0;36mbatch_processing\u001b[1;34m(filename, background, correct_dispersion, offset)\u001b[0m\n\u001b[0;32m   1592\u001b[0m                             \u001b[0mdispersionc\u001b[0m \u001b[1;33m=\u001b[0m \u001b[1;34m'Dispersion correction by row applied'\u001b[0m\u001b[1;33m\u001b[0m\u001b[1;33m\u001b[0m\u001b[0m\n\u001b[0;32m   1593\u001b[0m                         \u001b[1;32mif\u001b[0m \u001b[0mbackground\u001b[0m \u001b[1;33m==\u001b[0m \u001b[1;34m'area'\u001b[0m\u001b[1;33m:\u001b[0m\u001b[1;33m\u001b[0m\u001b[1;33m\u001b[0m\u001b[0m\n\u001b[1;32m-> 1594\u001b[1;33m                             \u001b[0msamplefile\u001b[0m\u001b[1;33m.\u001b[0m\u001b[0mget_background_correction_average\u001b[0m\u001b[1;33m(\u001b[0m\u001b[1;33m)\u001b[0m\u001b[1;33m\u001b[0m\u001b[1;33m\u001b[0m\u001b[0m\n\u001b[0m\u001b[0;32m   1595\u001b[0m                             \u001b[0mdispersionc\u001b[0m \u001b[1;33m=\u001b[0m \u001b[1;34m'Dispersion correction average applied'\u001b[0m\u001b[1;33m\u001b[0m\u001b[1;33m\u001b[0m\u001b[0m\n\u001b[0;32m   1596\u001b[0m \u001b[1;33m\u001b[0m\u001b[0m\n",
      "\u001b[1;32m~\\Summer project\\rugpeek_functions.py\u001b[0m in \u001b[0;36mget_background_correction_average\u001b[1;34m(self)\u001b[0m\n\u001b[0;32m   1184\u001b[0m     \u001b[1;32mdef\u001b[0m \u001b[0mget_background_correction_average\u001b[0m\u001b[1;33m(\u001b[0m\u001b[0mself\u001b[0m\u001b[1;33m)\u001b[0m\u001b[1;33m:\u001b[0m\u001b[1;33m\u001b[0m\u001b[1;33m\u001b[0m\u001b[0m\n\u001b[0;32m   1185\u001b[0m         \u001b[0mself\u001b[0m\u001b[1;33m.\u001b[0m\u001b[0mpeek\u001b[0m\u001b[1;33m(\u001b[0m\u001b[0mshow\u001b[0m\u001b[1;33m=\u001b[0m\u001b[1;32mFalse\u001b[0m\u001b[1;33m)\u001b[0m\u001b[1;33m\u001b[0m\u001b[1;33m\u001b[0m\u001b[0m\n\u001b[1;32m-> 1186\u001b[1;33m         \u001b[0mself\u001b[0m\u001b[1;33m.\u001b[0m\u001b[0mget_average_background\u001b[0m\u001b[1;33m(\u001b[0m\u001b[1;33m)\u001b[0m\u001b[1;33m\u001b[0m\u001b[1;33m\u001b[0m\u001b[0m\n\u001b[0m\u001b[0;32m   1187\u001b[0m         \u001b[1;32mreturn\u001b[0m\u001b[1;33m\u001b[0m\u001b[1;33m\u001b[0m\u001b[0m\n\u001b[0;32m   1188\u001b[0m \u001b[1;33m\u001b[0m\u001b[0m\n",
      "\u001b[1;32m~\\Summer project\\rugpeek_functions.py\u001b[0m in \u001b[0;36mget_average_background\u001b[1;34m(self)\u001b[0m\n\u001b[0;32m   1125\u001b[0m             \u001b[0mplt\u001b[0m\u001b[1;33m.\u001b[0m\u001b[0mdraw\u001b[0m\u001b[1;33m(\u001b[0m\u001b[1;33m)\u001b[0m\u001b[1;33m\u001b[0m\u001b[1;33m\u001b[0m\u001b[0m\n\u001b[0;32m   1126\u001b[0m             \u001b[0mpts\u001b[0m\u001b[1;33m=\u001b[0m\u001b[0mplt\u001b[0m\u001b[1;33m.\u001b[0m\u001b[0mginput\u001b[0m\u001b[1;33m(\u001b[0m\u001b[1;36m1\u001b[0m\u001b[1;33m)\u001b[0m\u001b[1;33m\u001b[0m\u001b[1;33m\u001b[0m\u001b[0m\n\u001b[1;32m-> 1127\u001b[1;33m             \u001b[0mtime\u001b[0m\u001b[1;33m=\u001b[0m\u001b[0mpts\u001b[0m\u001b[1;33m[\u001b[0m\u001b[1;36m0\u001b[0m\u001b[1;33m]\u001b[0m\u001b[1;33m[\u001b[0m\u001b[1;36m1\u001b[0m\u001b[1;33m]\u001b[0m\u001b[1;33m\u001b[0m\u001b[1;33m\u001b[0m\u001b[0m\n\u001b[0m\u001b[0;32m   1128\u001b[0m             \u001b[0mtimes\u001b[0m\u001b[1;33m.\u001b[0m\u001b[0mappend\u001b[0m\u001b[1;33m(\u001b[0m\u001b[0mtime\u001b[0m\u001b[1;33m)\u001b[0m\u001b[1;33m\u001b[0m\u001b[1;33m\u001b[0m\u001b[0m\n\u001b[0;32m   1129\u001b[0m             \u001b[0mself\u001b[0m\u001b[1;33m.\u001b[0m\u001b[0maxis\u001b[0m\u001b[1;33m.\u001b[0m\u001b[0maxhline\u001b[0m\u001b[1;33m(\u001b[0m\u001b[0my\u001b[0m\u001b[1;33m=\u001b[0m\u001b[0mtime\u001b[0m\u001b[1;33m)\u001b[0m\u001b[1;33m\u001b[0m\u001b[1;33m\u001b[0m\u001b[0m\n",
      "\u001b[1;31mIndexError\u001b[0m: list index out of range"
     ]
    }
   ],
   "source": [
    "%matplotlib qt5\n",
    "#import rugpeek_functions_TESTINGGG as rp\n",
    "import rugpeek_functions as rp\n",
    "import matplotlib.pyplot as plt\n",
    "import numpy as np\n",
    "import lmfit as lf\n",
    "import matplotlib as mpl\n",
    "import matplotlib.colors as colors\n",
    "import sys\n",
    "\n",
    "#this is the name of the excel sheet\n",
    "filename = 'Aarhus_Campaign_Jan_2024.xlsx'\n",
    "#This sorts it out so that it retrives a list full of grouped lists\n",
    "#Each list contains the sovlentfile first and the samples as the rest of the elements\n",
    "sortedfiles = rp.RugTools.file_sort(filename)\n",
    "\n",
    "#batch processing occurs and it saves two files - one as a processed.dat and processed.png\n",
    "rp.Rug.batch_processing(sortedfiles, background='area', correct_dispersion='eye')\n",
    "\n"
   ]
  }
 ],
 "metadata": {
  "kernelspec": {
   "display_name": "Python 3 (ipykernel)",
   "language": "python",
   "name": "python3"
  },
  "language_info": {
   "codemirror_mode": {
    "name": "ipython",
    "version": 3
   },
   "file_extension": ".py",
   "mimetype": "text/x-python",
   "name": "python",
   "nbconvert_exporter": "python",
   "pygments_lexer": "ipython3",
   "version": "3.9.13"
  }
 },
 "nbformat": 4,
 "nbformat_minor": 5
}
